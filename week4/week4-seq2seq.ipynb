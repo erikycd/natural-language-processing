{
  "nbformat": 4,
  "nbformat_minor": 0,
  "metadata": {
    "kernelspec": {
      "display_name": "Python 3",
      "language": "python",
      "name": "python3"
    },
    "language_info": {
      "codemirror_mode": {
        "name": "ipython",
        "version": 3
      },
      "file_extension": ".py",
      "mimetype": "text/x-python",
      "name": "python",
      "nbconvert_exporter": "python",
      "pygments_lexer": "ipython3",
      "version": "3.4.3"
    },
    "colab": {
      "name": "week4-seq2seq.ipynb",
      "provenance": [],
      "include_colab_link": true
    },
    "accelerator": "GPU"
  },
  "cells": [
    {
      "cell_type": "markdown",
      "metadata": {
        "id": "view-in-github",
        "colab_type": "text"
      },
      "source": [
        "<a href=\"https://colab.research.google.com/github/erikycd/natural-language-processing/blob/master/week4/week4-seq2seq.ipynb\" target=\"_parent\"><img src=\"https://colab.research.google.com/assets/colab-badge.svg\" alt=\"Open In Colab\"/></a>"
      ]
    },
    {
      "cell_type": "markdown",
      "metadata": {
        "id": "eKHMOjxHxzlF"
      },
      "source": [
        "# Learn to calculate with seq2seq model\n",
        "\n",
        "In this assignment, you will learn how to use neural networks to solve sequence-to-sequence prediction tasks. Seq2Seq models are very popular these days because they achieve great results in Machine Translation, Text Summarization, Conversational Modeling and more.\n",
        "\n",
        "Using sequence-to-sequence modeling you are going to build a calculator for evaluating arithmetic expressions, by taking an equation as an input to the neural network and producing an answer as it's output.\n",
        "\n",
        "The resulting solution for this problem will be based on state-of-the-art approaches for sequence-to-sequence learning and you should be able to easily adapt it to solve other tasks. However, if you want to train your own machine translation system or intellectual chat bot, it would be useful to have access to compute resources like GPU, and be patient, because training of such systems is usually time consuming. \n",
        "\n",
        "### Libraries\n",
        "\n",
        "For this task you will need the following libraries:\n",
        " - [TensorFlow](https://www.tensorflow.org) — an open-source software library for Machine Intelligence.\n",
        " \n",
        "In this assignment, we use Tensorflow 1.15.0. You can install it with pip:\n",
        "\n",
        "    !pip install tensorflow==1.15.0\n",
        "     \n",
        " - [scikit-learn](http://scikit-learn.org/stable/index.html) — a tool for data mining and data analysis.\n",
        " \n",
        "If you have never worked with TensorFlow, you will probably want to read some tutorials during your work on this assignment, e.g. [Neural Machine Translation](https://www.tensorflow.org/tutorials/seq2seq) tutorial deals with very similar task and can explain some concepts to you. "
      ]
    },
    {
      "cell_type": "code",
      "metadata": {
        "colab": {
          "base_uri": "https://localhost:8080/"
        },
        "id": "M0oONzxUx_oZ",
        "outputId": "6ab94171-08aa-4bca-a2b2-a598360f4d6a"
      },
      "source": [
        "!pip install tensorflow==1.15.0"
      ],
      "execution_count": 43,
      "outputs": [
        {
          "output_type": "stream",
          "text": [
            "Requirement already satisfied: tensorflow==1.15.0 in /usr/local/lib/python3.7/dist-packages (1.15.0)\n",
            "Requirement already satisfied: opt-einsum>=2.3.2 in /usr/local/lib/python3.7/dist-packages (from tensorflow==1.15.0) (3.3.0)\n",
            "Requirement already satisfied: wheel>=0.26 in /usr/local/lib/python3.7/dist-packages (from tensorflow==1.15.0) (0.36.2)\n",
            "Requirement already satisfied: tensorflow-estimator==1.15.1 in /usr/local/lib/python3.7/dist-packages (from tensorflow==1.15.0) (1.15.1)\n",
            "Requirement already satisfied: grpcio>=1.8.6 in /usr/local/lib/python3.7/dist-packages (from tensorflow==1.15.0) (1.32.0)\n",
            "Requirement already satisfied: tensorboard<1.16.0,>=1.15.0 in /usr/local/lib/python3.7/dist-packages (from tensorflow==1.15.0) (1.15.0)\n",
            "Requirement already satisfied: numpy<2.0,>=1.16.0 in /usr/local/lib/python3.7/dist-packages (from tensorflow==1.15.0) (1.19.5)\n",
            "Requirement already satisfied: six>=1.10.0 in /usr/local/lib/python3.7/dist-packages (from tensorflow==1.15.0) (1.15.0)\n",
            "Requirement already satisfied: keras-preprocessing>=1.0.5 in /usr/local/lib/python3.7/dist-packages (from tensorflow==1.15.0) (1.1.2)\n",
            "Requirement already satisfied: protobuf>=3.6.1 in /usr/local/lib/python3.7/dist-packages (from tensorflow==1.15.0) (3.12.4)\n",
            "Requirement already satisfied: absl-py>=0.7.0 in /usr/local/lib/python3.7/dist-packages (from tensorflow==1.15.0) (0.12.0)\n",
            "Requirement already satisfied: wrapt>=1.11.1 in /usr/local/lib/python3.7/dist-packages (from tensorflow==1.15.0) (1.12.1)\n",
            "Requirement already satisfied: keras-applications>=1.0.8 in /usr/local/lib/python3.7/dist-packages (from tensorflow==1.15.0) (1.0.8)\n",
            "Requirement already satisfied: termcolor>=1.1.0 in /usr/local/lib/python3.7/dist-packages (from tensorflow==1.15.0) (1.1.0)\n",
            "Requirement already satisfied: gast==0.2.2 in /usr/local/lib/python3.7/dist-packages (from tensorflow==1.15.0) (0.2.2)\n",
            "Requirement already satisfied: google-pasta>=0.1.6 in /usr/local/lib/python3.7/dist-packages (from tensorflow==1.15.0) (0.2.0)\n",
            "Requirement already satisfied: astor>=0.6.0 in /usr/local/lib/python3.7/dist-packages (from tensorflow==1.15.0) (0.8.1)\n",
            "Requirement already satisfied: werkzeug>=0.11.15 in /usr/local/lib/python3.7/dist-packages (from tensorboard<1.16.0,>=1.15.0->tensorflow==1.15.0) (1.0.1)\n",
            "Requirement already satisfied: markdown>=2.6.8 in /usr/local/lib/python3.7/dist-packages (from tensorboard<1.16.0,>=1.15.0->tensorflow==1.15.0) (3.3.4)\n",
            "Requirement already satisfied: setuptools>=41.0.0 in /usr/local/lib/python3.7/dist-packages (from tensorboard<1.16.0,>=1.15.0->tensorflow==1.15.0) (56.1.0)\n",
            "Requirement already satisfied: h5py in /usr/local/lib/python3.7/dist-packages (from keras-applications>=1.0.8->tensorflow==1.15.0) (2.10.0)\n",
            "Requirement already satisfied: importlib-metadata; python_version < \"3.8\" in /usr/local/lib/python3.7/dist-packages (from markdown>=2.6.8->tensorboard<1.16.0,>=1.15.0->tensorflow==1.15.0) (3.10.1)\n",
            "Requirement already satisfied: typing-extensions>=3.6.4; python_version < \"3.8\" in /usr/local/lib/python3.7/dist-packages (from importlib-metadata; python_version < \"3.8\"->markdown>=2.6.8->tensorboard<1.16.0,>=1.15.0->tensorflow==1.15.0) (3.7.4.3)\n",
            "Requirement already satisfied: zipp>=0.5 in /usr/local/lib/python3.7/dist-packages (from importlib-metadata; python_version < \"3.8\"->markdown>=2.6.8->tensorboard<1.16.0,>=1.15.0->tensorflow==1.15.0) (3.4.1)\n"
          ],
          "name": "stdout"
        }
      ]
    },
    {
      "cell_type": "code",
      "metadata": {
        "colab": {
          "base_uri": "https://localhost:8080/"
        },
        "id": "5CI42tsnxzlS",
        "outputId": "dc398acf-44da-433a-f549-baf232d5ae3a"
      },
      "source": [
        "try:\n",
        "    import google.colab\n",
        "    IN_COLAB = True\n",
        "except:\n",
        "    IN_COLAB = False\n",
        "\n",
        "if IN_COLAB:\n",
        "    ! wget https://raw.githubusercontent.com/hse-aml/natural-language-processing/master/setup_google_colab.py -O setup_google_colab.py\n",
        "    import setup_google_colab\n",
        "    setup_google_colab.setup_week4()"
      ],
      "execution_count": 44,
      "outputs": [
        {
          "output_type": "stream",
          "text": [
            "--2021-05-10 06:11:46--  https://raw.githubusercontent.com/hse-aml/natural-language-processing/master/setup_google_colab.py\n",
            "Resolving raw.githubusercontent.com (raw.githubusercontent.com)... 185.199.108.133, 185.199.109.133, 185.199.110.133, ...\n",
            "Connecting to raw.githubusercontent.com (raw.githubusercontent.com)|185.199.108.133|:443... connected.\n",
            "HTTP request sent, awaiting response... 200 OK\n",
            "Length: 1939 (1.9K) [text/plain]\n",
            "Saving to: ‘setup_google_colab.py’\n",
            "\n",
            "setup_google_colab. 100%[===================>]   1.89K  --.-KB/s    in 0s      \n",
            "\n",
            "2021-05-10 06:11:46 (16.1 MB/s) - ‘setup_google_colab.py’ saved [1939/1939]\n",
            "\n"
          ],
          "name": "stdout"
        }
      ]
    },
    {
      "cell_type": "markdown",
      "metadata": {
        "id": "5eus2xHbxzlX"
      },
      "source": [
        "### Data\n",
        "\n",
        "One benefit of this task is that you don't need to download any data — you will generate it on your own! We will use two operators (addition and subtraction) and work with positive integer numbers in some range. Here are examples of correct inputs and outputs:\n",
        "\n",
        "    Input: '1+2'\n",
        "    Output: '3'\n",
        "    \n",
        "    Input: '0-99'\n",
        "    Output: '-99'\n",
        "\n",
        "*Note, that there are no spaces between operators and operands.*\n",
        "\n",
        "\n",
        "Now you need to implement the function *generate_equations*, which will be used to generate the data."
      ]
    },
    {
      "cell_type": "code",
      "metadata": {
        "collapsed": true,
        "id": "c9M2RZbTxzlY"
      },
      "source": [
        "import random"
      ],
      "execution_count": 45,
      "outputs": []
    },
    {
      "cell_type": "code",
      "metadata": {
        "collapsed": true,
        "id": "dxDni9RBxzlb"
      },
      "source": [
        "def generate_equations(allowed_operators, dataset_size, min_value, max_value):\n",
        "    \"\"\"Generates pairs of equations and solutions to them.\n",
        "    \n",
        "       Each equation has a form of two integers with an operator in between.\n",
        "       Each solution is an integer with the result of the operaion.\n",
        "    \n",
        "        allowed_operators: list of strings, allowed operators.\n",
        "        dataset_size: an integer, number of equations to be generated.\n",
        "        min_value: an integer, min value of each operand.\n",
        "        max_value: an integer, max value of each operand.\n",
        "\n",
        "        result: a list of tuples of strings (equation, solution).\n",
        "    \"\"\"\n",
        "    sample = []\n",
        "    for _ in range(dataset_size):\n",
        "        ######################################\n",
        "        ######### YOUR CODE HERE #############\n",
        "        a1 = random.randint(a = min_value, b = max_value)\n",
        "        a2 = random.randint(a = min_value, b = max_value)\n",
        "        opr = random.choice(allowed_operators)\n",
        "        equ = str(a1)+str(opr)+str(a2)\n",
        "        res = str(eval(equ))\n",
        "        sample.append((equ,res))\n",
        "        ######################################\n",
        "    return sample"
      ],
      "execution_count": 46,
      "outputs": []
    },
    {
      "cell_type": "markdown",
      "metadata": {
        "id": "-fH1CTYrxzld"
      },
      "source": [
        "To check the correctness of your implementation, use *test_generate_equations* function:"
      ]
    },
    {
      "cell_type": "code",
      "metadata": {
        "collapsed": true,
        "id": "mbLW2P-Hxzle"
      },
      "source": [
        "def test_generate_equations():\n",
        "    allowed_operators = ['+', '-']\n",
        "    dataset_size = 10\n",
        "    for (input_, output_) in generate_equations(allowed_operators, dataset_size, 0, 100):\n",
        "        if not (type(input_) is str and type(output_) is str):\n",
        "            return \"Both parts should be strings.\"\n",
        "        if eval(input_) != int(output_):\n",
        "            return \"The (equation: {!r}, solution: {!r}) pair is incorrect.\".format(input_, output_)\n",
        "    return \"Tests passed.\""
      ],
      "execution_count": 47,
      "outputs": []
    },
    {
      "cell_type": "code",
      "metadata": {
        "collapsed": true,
        "colab": {
          "base_uri": "https://localhost:8080/"
        },
        "id": "0pn8fBMtxzlf",
        "outputId": "e31cc4fd-47bc-434b-c14d-619285553998"
      },
      "source": [
        "print(test_generate_equations())"
      ],
      "execution_count": 48,
      "outputs": [
        {
          "output_type": "stream",
          "text": [
            "Tests passed.\n"
          ],
          "name": "stdout"
        }
      ]
    },
    {
      "cell_type": "markdown",
      "metadata": {
        "id": "TPb6SBdjxzlg"
      },
      "source": [
        "Finally, we are ready to generate the train and test data for the neural network:"
      ]
    },
    {
      "cell_type": "code",
      "metadata": {
        "collapsed": true,
        "id": "c91FYp1Wxzlh"
      },
      "source": [
        "from sklearn.model_selection import train_test_split"
      ],
      "execution_count": 49,
      "outputs": []
    },
    {
      "cell_type": "code",
      "metadata": {
        "collapsed": true,
        "id": "cK6gvRM0xzlk"
      },
      "source": [
        "allowed_operators = ['+', '-']\n",
        "dataset_size = 100000\n",
        "data = generate_equations(allowed_operators, dataset_size, min_value=0, max_value=9999)\n",
        "\n",
        "train_set, test_set = train_test_split(data, test_size=0.2, random_state=42)"
      ],
      "execution_count": 50,
      "outputs": []
    },
    {
      "cell_type": "markdown",
      "metadata": {
        "id": "RU3zp2UMxzln"
      },
      "source": [
        "## Prepare data for the neural network\n",
        "\n",
        "The next stage of data preparation is creating mappings of the characters to their indices in some vocabulary. Since in our task we already know which symbols will appear in the inputs and outputs, generating the vocabulary is a simple step.\n",
        "\n",
        "#### How to create dictionaries for other task\n",
        "\n",
        "First of all, you need to understand what is the basic unit of the sequence in your task. In our case, we operate on symbols and the basic unit is a symbol. The number of symbols is small, so we don't need to think about filtering/normalization steps. However, in other tasks, the basic unit is often a word, and in this case the mapping would be *word $\\to$ integer*. The number of words might be huge, so it would be reasonable to filter them, for example, by frequency and leave only the frequent ones. Other strategies that your should consider are: data normalization (lowercasing, tokenization, how to consider punctuation marks), separate vocabulary for input and for output (e.g. for machine translation), some specifics of the task."
      ]
    },
    {
      "cell_type": "code",
      "metadata": {
        "collapsed": true,
        "id": "jyWa_O7hxzlo"
      },
      "source": [
        "word2id = {symbol:i for i, symbol in enumerate('#^$+-1234567890')}\n",
        "id2word = {i:symbol for symbol, i in word2id.items()}"
      ],
      "execution_count": 51,
      "outputs": []
    },
    {
      "cell_type": "markdown",
      "metadata": {
        "id": "fG-Fvk13xzlp"
      },
      "source": [
        "#### Special symbols"
      ]
    },
    {
      "cell_type": "code",
      "metadata": {
        "collapsed": true,
        "id": "ASvOicHKxzlp"
      },
      "source": [
        "start_symbol = '^'\n",
        "end_symbol = '$'\n",
        "padding_symbol = '#'"
      ],
      "execution_count": 52,
      "outputs": []
    },
    {
      "cell_type": "markdown",
      "metadata": {
        "id": "PJZj3c4Txzlq"
      },
      "source": [
        "You could notice that we have added 3 special symbols: '^', '\\$' and '#':\n",
        "- '^' symbol will be passed to the network to indicate the beginning of the decoding procedure. We will discuss this one later in more details.\n",
        "- '\\$' symbol will be used to indicate the *end of a string*, both for input and output sequences. \n",
        "- '#' symbol will be used as a *padding* character to make lengths of all strings equal within one training batch.\n",
        "\n",
        "People have a bit different habits when it comes to special symbols in encoder-decoder networks, so don't get too much confused if you come across other variants in tutorials you read. "
      ]
    },
    {
      "cell_type": "markdown",
      "metadata": {
        "id": "PtmjYOs0xzlq"
      },
      "source": [
        "#### Padding"
      ]
    },
    {
      "cell_type": "markdown",
      "metadata": {
        "id": "fNWDjU5Oxzlr"
      },
      "source": [
        "When vocabularies are ready, we need to be able to convert a sentence to a list of vocabulary word indices and back. At the same time, let's care about padding. We are going to preprocess each sequence from the input (and output ground truth) in such a way that:\n",
        "- it has a predefined length *padded_len*\n",
        "- it is probably cut off or padded with the *padding symbol* '#'\n",
        "- it *always* ends with the *end symbol* '$'\n",
        "\n",
        "We will treat the original characters of the sequence **and the end symbol** as the valid part of the input. We will store *the actual length* of the sequence, which includes the end symbol, but does not include the padding symbols. "
      ]
    },
    {
      "cell_type": "markdown",
      "metadata": {
        "id": "ML2mEwC9xzlr"
      },
      "source": [
        " Now you need to implement the function *sentence_to_ids* that does the described job. "
      ]
    },
    {
      "cell_type": "code",
      "metadata": {
        "collapsed": true,
        "id": "rKkDZU1Pxzls"
      },
      "source": [
        "def sentence_to_ids(sentence, word2id, padded_len):\n",
        "    \"\"\" Converts a sequence of symbols to a padded sequence of their ids.\n",
        "    \n",
        "      sentence: a string, input/output sequence of symbols.\n",
        "      word2id: a dict, a mapping from original symbols to ids.\n",
        "      padded_len: an integer, a desirable length of the sequence.\n",
        "\n",
        "      result: a tuple of (a list of ids, an actual length of sentence).\n",
        "    \"\"\"\n",
        "    ids = [word2id[word] for word in sentence] \n",
        "    ps = max(0, padded_len - len(ids) - 1)  # pad size\n",
        "\n",
        "    sent_ids = ids[:padded_len - 1] + [word2id[end_symbol]] + [word2id[padding_symbol]] * ps ######### YOUR CODE HERE #############\n",
        "    sent_len = min(padded_len - 1, len(sentence)) + 1 ######### YOUR CODE HERE #############\n",
        "    \n",
        "    return sent_ids, sent_len"
      ],
      "execution_count": 53,
      "outputs": []
    },
    {
      "cell_type": "markdown",
      "metadata": {
        "id": "X_A5NT0Jxzls"
      },
      "source": [
        "Check that your implementation is correct:"
      ]
    },
    {
      "cell_type": "code",
      "metadata": {
        "collapsed": true,
        "id": "0x123e0Mxzls"
      },
      "source": [
        "def test_sentence_to_ids():\n",
        "    sentences = [(\"123+123\", 7), (\"123+123\", 8), (\"123+123\", 10)]\n",
        "    expected_output = [([5, 6, 7, 3, 5, 6, 2], 7), \n",
        "                       ([5, 6, 7, 3, 5, 6, 7, 2], 8), \n",
        "                       ([5, 6, 7, 3, 5, 6, 7, 2, 0, 0], 8)] \n",
        "    for (sentence, padded_len), (sentence_ids, expected_length) in zip(sentences, expected_output):\n",
        "        output, length = sentence_to_ids(sentence, word2id, padded_len)\n",
        "        if output != sentence_ids:\n",
        "            return(\"Convertion of '{}' for padded_len={} to {} is incorrect.\".format(\n",
        "                sentence, padded_len, output))\n",
        "        if length != expected_length:\n",
        "            return(\"Convertion of '{}' for padded_len={} has incorrect actual length {}.\".format(\n",
        "                sentence, padded_len, length))\n",
        "    return(\"Tests passed.\")"
      ],
      "execution_count": 54,
      "outputs": []
    },
    {
      "cell_type": "code",
      "metadata": {
        "collapsed": true,
        "colab": {
          "base_uri": "https://localhost:8080/"
        },
        "id": "CqnBUU4Lxzlt",
        "outputId": "ab4c0d5c-d458-4b68-cccb-8af582f19d6f"
      },
      "source": [
        "print(test_sentence_to_ids())"
      ],
      "execution_count": 55,
      "outputs": [
        {
          "output_type": "stream",
          "text": [
            "Tests passed.\n"
          ],
          "name": "stdout"
        }
      ]
    },
    {
      "cell_type": "markdown",
      "metadata": {
        "id": "DZC8xQ0Lxzlt"
      },
      "source": [
        "We also need to be able to get back from indices to symbols:"
      ]
    },
    {
      "cell_type": "code",
      "metadata": {
        "collapsed": true,
        "id": "AUdaPT48xzlu"
      },
      "source": [
        "def ids_to_sentence(ids, id2word):\n",
        "    \"\"\" Converts a sequence of ids to a sequence of symbols.\n",
        "    \n",
        "          ids: a list, indices for the padded sequence.\n",
        "          id2word:  a dict, a mapping from ids to original symbols.\n",
        "\n",
        "          result: a list of symbols.\n",
        "    \"\"\"\n",
        " \n",
        "    return [id2word[i] for i in ids] "
      ],
      "execution_count": 56,
      "outputs": []
    },
    {
      "cell_type": "markdown",
      "metadata": {
        "id": "MdlDYZENxzlv"
      },
      "source": [
        "#### Generating batches"
      ]
    },
    {
      "cell_type": "markdown",
      "metadata": {
        "id": "Tgom0TjKxzlv"
      },
      "source": [
        "The final step of data preparation is a function that transforms a batch of sentences to a list of lists of indices. "
      ]
    },
    {
      "cell_type": "code",
      "metadata": {
        "collapsed": true,
        "id": "IXPIlCrGxzlv"
      },
      "source": [
        "def batch_to_ids(sentences, word2id, max_len):\n",
        "    \"\"\"Prepares batches of indices. \n",
        "    \n",
        "       Sequences are padded to match the longest sequence in the batch,\n",
        "       if it's longer than max_len, then max_len is used instead.\n",
        "\n",
        "        sentences: a list of strings, original sequences.\n",
        "        word2id: a dict, a mapping from original symbols to ids.\n",
        "        max_len: an integer, max len of sequences allowed.\n",
        "\n",
        "        result: a list of lists of ids, a list of actual lengths.\n",
        "    \"\"\"\n",
        "    \n",
        "    max_len_in_batch = min(max(len(s) for s in sentences) + 1, max_len)\n",
        "    batch_ids, batch_ids_len = [], []\n",
        "    for sentence in sentences:\n",
        "        ids, ids_len = sentence_to_ids(sentence, word2id, max_len_in_batch)\n",
        "        batch_ids.append(ids)\n",
        "        batch_ids_len.append(ids_len)\n",
        "    return batch_ids, batch_ids_len"
      ],
      "execution_count": 57,
      "outputs": []
    },
    {
      "cell_type": "markdown",
      "metadata": {
        "id": "aIf5jdHmxzlw"
      },
      "source": [
        "The function *generate_batches* will help to generate batches with defined size from given samples."
      ]
    },
    {
      "cell_type": "code",
      "metadata": {
        "collapsed": true,
        "id": "GALuCQxExzlw"
      },
      "source": [
        "def generate_batches(samples, batch_size=64):\n",
        "    X, Y = [], []\n",
        "    for i, (x, y) in enumerate(samples, 1):\n",
        "        X.append(x)\n",
        "        Y.append(y)\n",
        "        if i % batch_size == 0:\n",
        "            yield X, Y\n",
        "            X, Y = [], []\n",
        "    if X and Y:\n",
        "        yield X, Y"
      ],
      "execution_count": 58,
      "outputs": []
    },
    {
      "cell_type": "markdown",
      "metadata": {
        "id": "iRZWfuvgxzlw"
      },
      "source": [
        "To illustrate the result of the implemented functions, run the following cell:"
      ]
    },
    {
      "cell_type": "code",
      "metadata": {
        "collapsed": true,
        "colab": {
          "base_uri": "https://localhost:8080/"
        },
        "id": "o2qWSIBKxzlx",
        "outputId": "ddd7fe30-6c8d-45dd-ece8-a3c84c22fd3d"
      },
      "source": [
        "sentences = train_set[0]\n",
        "ids, sent_lens = batch_to_ids(sentences, word2id, max_len=10)\n",
        "print('Input:', sentences)\n",
        "print('Ids: {}\\nSentences lengths: {}'.format(ids, sent_lens))"
      ],
      "execution_count": 59,
      "outputs": [
        {
          "output_type": "stream",
          "text": [
            "Input: ('1380-7660', '-6280')\n",
            "Ids: [[5, 7, 12, 14, 4, 11, 10, 10, 14, 2], [4, 10, 6, 12, 14, 2, 0, 0, 0, 0]]\n",
            "Sentences lengths: [10, 6]\n"
          ],
          "name": "stdout"
        }
      ]
    },
    {
      "cell_type": "markdown",
      "metadata": {
        "id": "O9V4KWMgxzly"
      },
      "source": [
        "## Encoder-Decoder architecture\n",
        "\n",
        "Encoder-Decoder is a successful architecture for Seq2Seq tasks with different lengths of input and output sequences. The main idea is to use two recurrent neural networks, where the first neural network *encodes* the input sequence into a real-valued vector and then the second neural network *decodes* this vector into the output sequence. While building the neural network, we will specify some particular characteristics of this architecture."
      ]
    },
    {
      "cell_type": "code",
      "metadata": {
        "collapsed": true,
        "id": "vov_908ixzly"
      },
      "source": [
        "import tensorflow as tf"
      ],
      "execution_count": 60,
      "outputs": []
    },
    {
      "cell_type": "markdown",
      "metadata": {
        "id": "zQm280f8xzlz"
      },
      "source": [
        "Let us use TensorFlow building blocks to specify the network architecture."
      ]
    },
    {
      "cell_type": "code",
      "metadata": {
        "collapsed": true,
        "id": "C-FqIugvxzlz"
      },
      "source": [
        "class Seq2SeqModel(object):\n",
        "    pass"
      ],
      "execution_count": 61,
      "outputs": []
    },
    {
      "cell_type": "markdown",
      "metadata": {
        "id": "-6JUkR6vxzlz"
      },
      "source": [
        "First, we need to create [placeholders](https://www.tensorflow.org/api_guides/python/io_ops#Placeholders) to specify what data we are going to feed into the network during the execution time. For this task we will need:\n",
        " - *input_batch* — sequences of sentences (the shape will equal to [batch_size, max_sequence_len_in_batch]);\n",
        " - *input_batch_lengths* — lengths of not padded sequences (the shape equals to [batch_size]);\n",
        " - *ground_truth* — sequences of groundtruth (the shape will equal to [batch_size, max_sequence_len_in_batch]);\n",
        " - *ground_truth_lengths* — lengths of not padded groundtruth sequences (the shape equals to [batch_size]);\n",
        " - *dropout_ph* — dropout keep probability; this placeholder has a predifined value 1;\n",
        " - *learning_rate_ph* — learning rate."
      ]
    },
    {
      "cell_type": "code",
      "metadata": {
        "collapsed": true,
        "id": "6gs92H11xzl0"
      },
      "source": [
        "def declare_placeholders(self):\n",
        "    \"\"\"Specifies placeholders for the model.\"\"\"\n",
        "    \n",
        "    # Placeholders for input and its actual lengths.\n",
        "    self.input_batch = tf.placeholder(shape=(None, None), dtype=tf.int32, name='input_batch')\n",
        "    self.input_batch_lengths = tf.placeholder(shape=(None, ), dtype=tf.int32, name='input_batch_lengths')\n",
        "    \n",
        "    # Placeholders for groundtruth and its actual lengths.\n",
        "    self.ground_truth = tf.placeholder(shape=(None, None), dtype=tf.int32, name='ground_truth') ######### YOUR CODE HERE #############\n",
        "    self.ground_truth_lengths = tf.placeholder(shape=(None, ), dtype=tf.int32, name='ground_truth_lengths') ######### YOUR CODE HERE #############\n",
        "        \n",
        "    self.dropout_ph = tf.placeholder_with_default(tf.cast(1.0, tf.float32), shape=[])\n",
        "    self.learning_rate_ph = tf.placeholder(dtype=tf.float32, shape=[]) ######### YOUR CODE HERE ############# "
      ],
      "execution_count": 62,
      "outputs": []
    },
    {
      "cell_type": "code",
      "metadata": {
        "collapsed": true,
        "id": "OV2A6p_Pxzl1"
      },
      "source": [
        "Seq2SeqModel.__declare_placeholders = classmethod(declare_placeholders)"
      ],
      "execution_count": 63,
      "outputs": []
    },
    {
      "cell_type": "markdown",
      "metadata": {
        "id": "GekTsp32xzl1"
      },
      "source": [
        "Now, let us specify the layers of the neural network. First, we need to prepare an embedding matrix. Since we use the same vocabulary for input and output, we need only one such matrix. For tasks with different vocabularies there would be multiple embedding layers.\n",
        "- Create embeddings matrix with [tf.Variable](https://www.tensorflow.org/api_docs/python/tf/Variable). Specify its name, type (tf.float32), and initialize with random values.\n",
        "- Perform [embeddings lookup](https://www.tensorflow.org/api_docs/python/tf/nn/embedding_lookup) for a given input batch."
      ]
    },
    {
      "cell_type": "code",
      "metadata": {
        "collapsed": true,
        "id": "5kEhkkPxxzl2"
      },
      "source": [
        "def create_embeddings(self, vocab_size, embeddings_size):\n",
        "    \"\"\"Specifies embeddings layer and embeds an input batch.\"\"\"\n",
        "     \n",
        "    random_initializer = tf.random_uniform((vocab_size, embeddings_size), -1.0, 1.0)\n",
        "    self.embeddings = tf.Variable(random_initializer, dtype=tf.float32, name='embeddings_matrix')######### YOUR CODE HERE ############# \n",
        "    \n",
        "    # Perform embeddings lookup for self.input_batch. \n",
        "    self.input_batch_embedded = tf.nn.embedding_lookup(self.embeddings, self.input_batch) ######### YOUR CODE HERE ############# "
      ],
      "execution_count": 64,
      "outputs": []
    },
    {
      "cell_type": "code",
      "metadata": {
        "collapsed": true,
        "id": "LHrLt0cMxzl2"
      },
      "source": [
        "Seq2SeqModel.__create_embeddings = classmethod(create_embeddings)"
      ],
      "execution_count": 65,
      "outputs": []
    },
    {
      "cell_type": "markdown",
      "metadata": {
        "id": "quddmqtzxzl3"
      },
      "source": [
        "#### Encoder\n",
        "\n",
        "The first RNN of the current architecture is called an *encoder* and serves for encoding an input sequence to a real-valued vector. Input of this RNN is an embedded input batch. Since sentences in the same batch could have different actual lengths, we also provide input lengths to avoid unnecessary computations. The final encoder state will be passed to the second RNN (decoder), which we will create soon. \n",
        "\n",
        "- TensorFlow provides a number of [RNN cells](https://www.tensorflow.org/api_guides/python/contrib.rnn#Core_RNN_Cells_for_use_with_TensorFlow_s_core_RNN_methods) ready for use. We suggest that you use [GRU cell](https://www.tensorflow.org/api_docs/python/tf/contrib/rnn/GRUCell), but you can also experiment with other types. \n",
        "- Wrap your cells with [DropoutWrapper](https://www.tensorflow.org/api_docs/python/tf/contrib/rnn/DropoutWrapper). Dropout is an important regularization technique for neural networks. Specify input keep probability using the dropout placeholder that we created before.\n",
        "- Combine the defined encoder cells with [Dynamic RNN](https://www.tensorflow.org/api_docs/python/tf/nn/dynamic_rnn). Use the embedded input batches and their lengths here.\n",
        "- Use *dtype=tf.float32* everywhere."
      ]
    },
    {
      "cell_type": "code",
      "metadata": {
        "collapsed": true,
        "id": "J1wjxaRwxzl4"
      },
      "source": [
        "def build_encoder(self, hidden_size):\n",
        "    \"\"\"Specifies encoder architecture and computes its output.\"\"\"\n",
        "    \n",
        "    # Create GRUCell with dropout.\n",
        "    ######### YOUR CODE HERE #############\n",
        "    encoder_cell = tf.nn.rnn_cell.DropoutWrapper(tf.nn.rnn_cell.GRUCell(hidden_size), \n",
        "                                                 dtype = tf.float32, \n",
        "                                                 input_keep_prob = self.dropout_ph, \n",
        "                                                 output_keep_prob = self.dropout_ph)\n",
        "    # Create RNN with the predefined cell.\n",
        "    ######### YOUR CODE HERE #############\n",
        "    _, self.final_encoder_state = tf.nn.dynamic_rnn(encoder_cell, self.input_batch_embedded, \n",
        "                                                    dtype = tf.float32, \n",
        "                                                    sequence_length = self.input_batch_lengths)"
      ],
      "execution_count": 66,
      "outputs": []
    },
    {
      "cell_type": "code",
      "metadata": {
        "collapsed": true,
        "id": "j00a0u9fxzl4"
      },
      "source": [
        "Seq2SeqModel.__build_encoder = classmethod(build_encoder)"
      ],
      "execution_count": 67,
      "outputs": []
    },
    {
      "cell_type": "markdown",
      "metadata": {
        "id": "u3Puu9Bsxzl5"
      },
      "source": [
        "#### Decoder\n",
        "\n",
        "The second RNN is called a *decoder* and serves for generating the output sequence. In the simple seq2seq arcitecture, the input sequence is provided to the decoder only as the final state of the encoder. Obviously, it is a bottleneck and [Attention techniques](https://www.tensorflow.org/tutorials/seq2seq#background_on_the_attention_mechanism) can help to overcome it. So far, we do not need them to make our calculator work, but this would be a necessary ingredient for more advanced tasks. \n",
        "\n",
        "During training, decoder also uses information about the true output. It is feeded in as input symbol by symbol. However, during the prediction stage (which is called *inference* in this architecture), the decoder can only use its own generated output from the previous step to feed it in at the next step. Because of this difference (*training* vs *inference*), we will create two distinct instances, which will serve for the described scenarios.\n",
        "\n",
        "The picture below illustrates the point. It also shows our work with the special characters, e.g. look how the start symbol `^` is used. The transparent parts are ignored. In decoder, it is masked out in the loss computation. In encoder, the green state is considered as final and passed to the decoder. "
      ]
    },
    {
      "cell_type": "markdown",
      "metadata": {
        "id": "ao43TGQkxzl5"
      },
      "source": [
        "<img src=\"https://github.com/erikycd/natural-language-processing/blob/master/week4/encoder-decoder-pic.png?raw=1\" style=\"width: 500px;\">"
      ]
    },
    {
      "cell_type": "markdown",
      "metadata": {
        "id": "nU5HfmCJxzl6"
      },
      "source": [
        "Now, it's time to implement the decoder:\n",
        " - First, we should create two [helpers](https://www.tensorflow.org/api_guides/python/contrib.seq2seq#Dynamic_Decoding). These classes help to determine the behaviour of the decoder. During the training time, we will use [TrainingHelper](https://www.tensorflow.org/api_docs/python/tf/contrib/seq2seq/TrainingHelper). For the inference we recommend to use [GreedyEmbeddingHelper](https://www.tensorflow.org/api_docs/python/tf/contrib/seq2seq/GreedyEmbeddingHelper).\n",
        " - To share all parameters during training and inference, we use one scope and set the flag 'reuse' to True at inference time. You might be interested to know more about how [variable scopes](https://www.tensorflow.org/programmers_guide/variables) work in TF. \n",
        " - To create the decoder itself, we will use [BasicDecoder](https://www.tensorflow.org/api_docs/python/tf/contrib/seq2seq/BasicDecoder) class. As previously, you should choose some RNN cell, e.g. GRU cell. To turn hidden states into logits, we will need a projection layer. One of the simple solutions is using [OutputProjectionWrapper](https://www.tensorflow.org/api_docs/python/tf/contrib/rnn/OutputProjectionWrapper).\n",
        " - For getting the predictions, it will be convinient to use [dynamic_decode](https://www.tensorflow.org/api_docs/python/tf/contrib/seq2seq/dynamic_decode). This function uses the provided decoder to perform decoding."
      ]
    },
    {
      "cell_type": "code",
      "metadata": {
        "collapsed": true,
        "id": "gbAa3AUzxzl7"
      },
      "source": [
        "def build_decoder(self, hidden_size, vocab_size, max_iter, start_symbol_id, end_symbol_id):\n",
        "    \"\"\"Specifies decoder architecture and computes the output.\n",
        "    \n",
        "        Uses different helpers:\n",
        "          - for train: feeding ground truth\n",
        "          - for inference: feeding generated output\n",
        "\n",
        "        As a result, self.train_outputs and self.infer_outputs are created. \n",
        "        Each of them contains two fields:\n",
        "          rnn_output (predicted logits)\n",
        "          sample_id (predictions).\n",
        "\n",
        "    \"\"\"\n",
        "    \n",
        "    # Use start symbols as the decoder inputs at the first time step.\n",
        "    batch_size = tf.shape(self.input_batch)[0]\n",
        "    start_tokens = tf.fill([batch_size], start_symbol_id)\n",
        "    ground_truth_as_input = tf.concat([tf.expand_dims(start_tokens, 1), self.ground_truth], 1)\n",
        "    \n",
        "    # Use the embedding layer defined before to lookup embedings for ground_truth_as_input. \n",
        "    self.ground_truth_embedded = tf.nn.embedding_lookup(self.embeddings, ground_truth_as_input) ######### YOUR CODE HERE #############\n",
        "     \n",
        "    # Create TrainingHelper for the train stage.\n",
        "    train_helper = tf.contrib.seq2seq.TrainingHelper(self.ground_truth_embedded, \n",
        "                                                     self.ground_truth_lengths)\n",
        "    \n",
        "    # Create GreedyEmbeddingHelper for the inference stage.\n",
        "    # You should provide the embedding layer, start_tokens and index of the end symbol.\n",
        "    infer_helper = tf.contrib.seq2seq.GreedyEmbeddingHelper(self.embeddings, start_tokens, end_symbol_id) ######### YOUR CODE HERE #############\n",
        "    \n",
        "  \n",
        "    def decode(helper, scope, reuse=None):\n",
        "        \"\"\"Creates decoder and return the results of the decoding with a given helper.\"\"\"\n",
        "        \n",
        "        with tf.variable_scope(scope, reuse=reuse):\n",
        "            # Create GRUCell with dropout. Do not forget to set the reuse flag properly.\n",
        "            ######### YOUR CODE HERE #############\n",
        "            decoder_cell = tf.nn.rnn_cell.DropoutWrapper(tf.contrib.rnn.GRUCell(hidden_size, reuse = reuse), \n",
        "                                                         dtype = tf.float32, \n",
        "                                                         input_keep_prob = self.dropout_ph, \n",
        "                                                         output_keep_prob = self.dropout_ph)            \n",
        "            # Create a projection wrapper.\n",
        "            decoder_cell = tf.contrib.rnn.OutputProjectionWrapper(decoder_cell, vocab_size, reuse=reuse)\n",
        "            \n",
        "            # Create BasicDecoder, pass the defined cell, a helper, and initial state.\n",
        "            # The initial state should be equal to the final state of the encoder!\n",
        "            ######### YOUR CODE HERE #############\n",
        "            decoder = tf.contrib.seq2seq.BasicDecoder(cell = decoder_cell, \n",
        "                                                      helper = helper, \n",
        "                                                      initial_state = self.final_encoder_state)             \n",
        "            # The first returning argument of dynamic_decode contains two fields:\n",
        "            #   rnn_output (predicted logits)\n",
        "            #   sample_id (predictions)\n",
        "            outputs, _, _ = tf.contrib.seq2seq.dynamic_decode(decoder=decoder, maximum_iterations=max_iter, \n",
        "                                                              output_time_major=False, impute_finished=True)\n",
        "\n",
        "            return outputs\n",
        "        \n",
        "    self.train_outputs = decode(train_helper, 'decode')\n",
        "    self.infer_outputs = decode(infer_helper, 'decode', reuse=True)"
      ],
      "execution_count": 68,
      "outputs": []
    },
    {
      "cell_type": "code",
      "metadata": {
        "collapsed": true,
        "id": "212Wdvnwxzl8"
      },
      "source": [
        "Seq2SeqModel.__build_decoder = classmethod(build_decoder)"
      ],
      "execution_count": 69,
      "outputs": []
    },
    {
      "cell_type": "markdown",
      "metadata": {
        "id": "uE9dQPAkxzl8"
      },
      "source": [
        "In this task we will use [sequence_loss](https://www.tensorflow.org/api_docs/python/tf/contrib/seq2seq/sequence_loss), which is a weighted cross-entropy loss for a sequence of logits. Take a moment to understand, what is your train logits and targets. Also note, that we do not want to take into account loss terms coming from padding symbols, so we will mask them out using weights.  "
      ]
    },
    {
      "cell_type": "code",
      "metadata": {
        "collapsed": true,
        "id": "FKLsaGP-xzl-"
      },
      "source": [
        "def compute_loss(self):\n",
        "    \"\"\"Computes sequence loss (masked cross-entopy loss with logits).\"\"\"\n",
        "    \n",
        "    weights = tf.cast(tf.sequence_mask(self.ground_truth_lengths), dtype=tf.float32)\n",
        "    \n",
        "    ######### YOUR CODE HERE #############\n",
        "    self.loss = tf.contrib.seq2seq.sequence_loss(self.train_outputs.rnn_output, \n",
        "                                                 self.ground_truth, weights)"
      ],
      "execution_count": 70,
      "outputs": []
    },
    {
      "cell_type": "code",
      "metadata": {
        "collapsed": true,
        "id": "uRYWiOHixzl-"
      },
      "source": [
        "Seq2SeqModel.__compute_loss = classmethod(compute_loss)"
      ],
      "execution_count": 71,
      "outputs": []
    },
    {
      "cell_type": "markdown",
      "metadata": {
        "id": "1Gc9I5O0xzl_"
      },
      "source": [
        "The last thing to specify is the optimization of the defined loss. \n",
        "We suggest that you use [optimize_loss](https://www.tensorflow.org/api_docs/python/tf/contrib/layers/optimize_loss) with Adam optimizer and a learning rate from the corresponding placeholder. You might also need to pass global step (e.g. as tf.train.get_global_step()) and clip gradients by 1.0."
      ]
    },
    {
      "cell_type": "code",
      "metadata": {
        "collapsed": true,
        "id": "Mc3MHtLJxzl_"
      },
      "source": [
        "def perform_optimization(self):\n",
        "    \"\"\"Specifies train_op that optimizes self.loss.\"\"\"\n",
        "    \n",
        "    ######### YOUR CODE HERE #############\n",
        "    self.train_op = tf.contrib.layers.optimize_loss(self.loss, \n",
        "                                                    global_step = tf.train.get_global_step(), \n",
        "                                                    learning_rate = self.learning_rate_ph, \n",
        "                                                    optimizer = 'Adam', \n",
        "                                                    clip_gradients = 1.0)"
      ],
      "execution_count": 72,
      "outputs": []
    },
    {
      "cell_type": "code",
      "metadata": {
        "collapsed": true,
        "id": "GQoHDjKixzmA"
      },
      "source": [
        "Seq2SeqModel.__perform_optimization = classmethod(perform_optimization)"
      ],
      "execution_count": 73,
      "outputs": []
    },
    {
      "cell_type": "markdown",
      "metadata": {
        "id": "tGHz_bvMxzmA"
      },
      "source": [
        "Congratulations! You have specified all the parts of your network. You may have noticed, that we didn't deal with any real data yet, so what you have written is just recipies on how the network should function.\n",
        "Now we will put them to the constructor of our Seq2SeqModel class to use it in the next section. "
      ]
    },
    {
      "cell_type": "code",
      "metadata": {
        "collapsed": true,
        "id": "z3OYT8WLxzmA"
      },
      "source": [
        "def init_model(self, vocab_size, embeddings_size, hidden_size, \n",
        "               max_iter, start_symbol_id, end_symbol_id, padding_symbol_id):\n",
        "    \n",
        "    self.__declare_placeholders()\n",
        "    self.__create_embeddings(vocab_size, embeddings_size)\n",
        "    self.__build_encoder(hidden_size)\n",
        "    self.__build_decoder(hidden_size, vocab_size, max_iter, start_symbol_id, end_symbol_id)\n",
        "    \n",
        "    # Compute loss and back-propagate.\n",
        "    self.__compute_loss()\n",
        "    self.__perform_optimization()\n",
        "    \n",
        "    # Get predictions for evaluation.\n",
        "    self.train_predictions = self.train_outputs.sample_id\n",
        "    self.infer_predictions = self.infer_outputs.sample_id"
      ],
      "execution_count": 74,
      "outputs": []
    },
    {
      "cell_type": "code",
      "metadata": {
        "collapsed": true,
        "id": "w7fAmFkdxzmB"
      },
      "source": [
        "Seq2SeqModel.__init__ = classmethod(init_model)"
      ],
      "execution_count": 75,
      "outputs": []
    },
    {
      "cell_type": "markdown",
      "metadata": {
        "id": "_ZJMqm2XxzmB"
      },
      "source": [
        "## Train the network and predict output\n",
        "\n",
        "[Session.run](https://www.tensorflow.org/api_docs/python/tf/Session#run) is a point which initiates computations in the graph that we have defined. To train the network, we need to compute *self.train_op*. To predict output, we just need to compute *self.infer_predictions*. In any case, we need to feed actual data through the placeholders that we defined above. "
      ]
    },
    {
      "cell_type": "code",
      "metadata": {
        "collapsed": true,
        "id": "M07dwSHYxzmB"
      },
      "source": [
        "def train_on_batch(self, session, X, X_seq_len, Y, Y_seq_len, learning_rate, dropout_keep_probability):\n",
        "    feed_dict = {\n",
        "            self.input_batch: X,\n",
        "            self.input_batch_lengths: X_seq_len,\n",
        "            self.ground_truth: Y,\n",
        "            self.ground_truth_lengths: Y_seq_len,\n",
        "            self.learning_rate_ph: learning_rate,\n",
        "            self.dropout_ph: dropout_keep_probability\n",
        "        }\n",
        "    pred, loss, _ = session.run([\n",
        "            self.train_predictions,\n",
        "            self.loss,\n",
        "            self.train_op], feed_dict=feed_dict)\n",
        "    return pred, loss"
      ],
      "execution_count": 76,
      "outputs": []
    },
    {
      "cell_type": "code",
      "metadata": {
        "collapsed": true,
        "id": "-_Tm4GBhxzmC"
      },
      "source": [
        "Seq2SeqModel.train_on_batch = classmethod(train_on_batch)"
      ],
      "execution_count": 77,
      "outputs": []
    },
    {
      "cell_type": "markdown",
      "metadata": {
        "id": "ae1ZrNzwxzmC"
      },
      "source": [
        "We implemented two prediction functions: *predict_for_batch* and *predict_for_batch_with_loss*. The first one allows only to predict output for some input sequence, while the second one could compute loss because we provide also ground truth values. Both these functions might be useful since the first one could be used for predicting only, and the second one is helpful for validating results on not-training data during the training."
      ]
    },
    {
      "cell_type": "code",
      "metadata": {
        "collapsed": true,
        "id": "lwV0X7wsxzmD"
      },
      "source": [
        "def predict_for_batch(self, session, X, X_seq_len):\n",
        "    ######### YOUR CODE HERE #############\n",
        "    feed_dict = feed_dict = {self.input_batch: X, \n",
        "                             self.input_batch_lengths: X_seq_len, \n",
        "                             self.dropout_ph: 1.0}\n",
        "    pred = session.run([\n",
        "            self.infer_predictions\n",
        "        ], feed_dict=feed_dict)[0]\n",
        "    return pred\n",
        "\n",
        "def predict_for_batch_with_loss(self, session, X, X_seq_len, Y, Y_seq_len):\n",
        "    ######### YOUR CODE HERE #############\n",
        "    feed_dict = feed_dict = {self.input_batch: X,                 \n",
        "                             self.input_batch_lengths: X_seq_len,\n",
        "                             self.ground_truth: Y,\n",
        "                             self.ground_truth_lengths: Y_seq_len,\n",
        "                             self.dropout_ph: 1.0}\n",
        "    pred, loss = session.run([\n",
        "            self.infer_predictions,\n",
        "            self.loss,\n",
        "        ], feed_dict=feed_dict)\n",
        "    return pred, loss"
      ],
      "execution_count": 78,
      "outputs": []
    },
    {
      "cell_type": "code",
      "metadata": {
        "collapsed": true,
        "id": "Ungs6CMqxzmD"
      },
      "source": [
        "Seq2SeqModel.predict_for_batch = classmethod(predict_for_batch)\n",
        "Seq2SeqModel.predict_for_batch_with_loss = classmethod(predict_for_batch_with_loss)"
      ],
      "execution_count": 79,
      "outputs": []
    },
    {
      "cell_type": "markdown",
      "metadata": {
        "id": "uEEcKeGWxzmE"
      },
      "source": [
        "## Run your experiment\n",
        "\n",
        "Create *Seq2SeqModel* model with the following parameters:\n",
        " - *vocab_size* — number of tokens;\n",
        " - *embeddings_size* — dimension of embeddings, recommended value: 20;\n",
        " - *max_iter* — maximum number of steps in decoder, recommended value: 7;\n",
        " - *hidden_size* — size of hidden layers for RNN, recommended value: 512;\n",
        " - *start_symbol_id* — an index of the start token (`^`).\n",
        " - *end_symbol_id* — an index of the end token (`$`).\n",
        " - *padding_symbol_id* — an index of the padding token (`#`).\n",
        "\n",
        "Set hyperparameters. You might want to start with the following values and see how it works:\n",
        "- *batch_size*: 128;\n",
        "- at least 10 epochs;\n",
        "- value of *learning_rate*: 0.001\n",
        "- *dropout_keep_probability* equals to 0.5 for training (typical values for dropout probability are ranging from 0.1 to 1.0); larger values correspond smaler number of dropout units;\n",
        "- *max_len*: 20."
      ]
    },
    {
      "cell_type": "code",
      "metadata": {
        "collapsed": true,
        "id": "kseJl5h2xzmF"
      },
      "source": [
        "tf.reset_default_graph()\n",
        "\n",
        "######### YOUR CODE HERE #############\n",
        "model = Seq2SeqModel(vocab_size=len(word2id),\n",
        "                     embeddings_size=20, \n",
        "                     hidden_size=512, \n",
        "                     max_iter=7, \n",
        "                     start_symbol_id=word2id[start_symbol], \n",
        "                     end_symbol_id=word2id[end_symbol], \n",
        "                     padding_symbol_id=word2id[padding_symbol])\n",
        "\n",
        "batch_size = 128 ######### YOUR CODE HERE #############\n",
        "n_epochs = 15 ######### YOUR CODE HERE #############\n",
        "learning_rate = 0.001 ######### YOUR CODE HERE #############\n",
        "dropout_keep_probability = 0.5 ######### YOUR CODE HERE #############\n",
        "max_len = 20 ######### YOUR CODE HERE #############\n",
        "\n",
        "n_step = int(len(train_set) / batch_size)"
      ],
      "execution_count": 80,
      "outputs": []
    },
    {
      "cell_type": "markdown",
      "metadata": {
        "id": "gBfZ-o0YxzmG"
      },
      "source": [
        "Finally, we are ready to run the training! A good indicator that everything works fine is decreasing loss during the training. You should account on the loss value equal to approximately 2.7 at the beginning of the training and near 1 after the 10th epoch."
      ]
    },
    {
      "cell_type": "code",
      "metadata": {
        "collapsed": true,
        "scrolled": true,
        "colab": {
          "base_uri": "https://localhost:8080/"
        },
        "id": "m7Z64FUoxzmH",
        "outputId": "870f3c18-060f-438d-ed30-ad91131027f0"
      },
      "source": [
        "session = tf.Session()\n",
        "session.run(tf.global_variables_initializer())\n",
        "            \n",
        "invalid_number_prediction_counts = []\n",
        "all_model_predictions = []\n",
        "all_ground_truth = []\n",
        "\n",
        "print('Start training... \\n')\n",
        "for epoch in range(n_epochs):  \n",
        "    random.shuffle(train_set)\n",
        "    random.shuffle(test_set)\n",
        "    \n",
        "    print('Train: epoch', epoch + 1)\n",
        "    for n_iter, (X_batch, Y_batch) in enumerate(generate_batches(train_set, batch_size=batch_size)):\n",
        "        ######################################\n",
        "        ######### YOUR CODE HERE #############\n",
        "        ######################################\n",
        "        # prepare the data (X_batch and Y_batch) for training\n",
        "        # using function batch_to_ids\n",
        "        X, X_seq_len = batch_to_ids(X_batch, word2id, max_len)\n",
        "        Y, Y_seq_len = batch_to_ids(Y_batch, word2id, max_len)\n",
        "        predictions, loss = model.train_on_batch(session, X, X_seq_len, Y, Y_seq_len, learning_rate, dropout_keep_probability) ######### YOUR CODE HERE #############\n",
        "        \n",
        "        if n_iter % 200 == 0:\n",
        "            print(\"Epoch: [%d/%d], step: [%d/%d], loss: %f\" % (epoch + 1, n_epochs, n_iter + 1, n_step, loss))\n",
        "                \n",
        "    X_sent, Y_sent = next(generate_batches(test_set, batch_size=batch_size))\n",
        "    ######################################\n",
        "    ######### YOUR CODE HERE #############\n",
        "    ######################################\n",
        "    # prepare test data (X_sent and Y_sent) for predicting \n",
        "    # quality and computing value of the loss function\n",
        "    # using function batch_to_ids\n",
        "    X, X_seq_len = batch_to_ids(X_sent, word2id, max_len)\n",
        "    Y, Y_seq_len = batch_to_ids(Y_sent, word2id, max_len)    \n",
        "    predictions, loss = model.predict_for_batch_with_loss(session, X, X_seq_len, Y, Y_seq_len) ######### YOUR CODE HERE #############\n",
        "    print('Test: epoch', epoch + 1, 'loss:', loss,)\n",
        "    for x, y, p  in list(zip(X, Y, predictions))[:3]:\n",
        "        print('X:',''.join(ids_to_sentence(x, id2word)))\n",
        "        print('Y:',''.join(ids_to_sentence(y, id2word)))\n",
        "        print('O:',''.join(ids_to_sentence(p, id2word)))\n",
        "        print('')\n",
        "\n",
        "    model_predictions = []\n",
        "    ground_truth = []\n",
        "    invalid_number_prediction_count = 0\n",
        "    # For the whole test set calculate ground-truth values (as integer numbers)\n",
        "    # and prediction values (also as integers) to calculate metrics.\n",
        "    # If generated by model number is not correct (e.g. '1-1'), \n",
        "    # increase invalid_number_prediction_count and don't append this and corresponding\n",
        "    # ground-truth value to the arrays.\n",
        "    for X_batch, Y_batch in generate_batches(test_set, batch_size=batch_size):\n",
        "        ######################################\n",
        "        ######### YOUR CODE HERE #############\n",
        "        X, X_seq_len = batch_to_ids(X_batch, word2id, max_len)\n",
        "        Y, Y_seq_len = batch_to_ids(Y_batch, word2id, max_len)\n",
        "        pred, loss = model.predict_for_batch_with_loss(session, X, X_seq_len, Y, Y_seq_len)\n",
        "        \n",
        "        for y, p in zip(Y, pred):\n",
        "          try:\n",
        "            val_t = eval(''.join(ids_to_sentence(y, id2word)).split('$')[0])\n",
        "            val_p = eval(''.join(ids_to_sentence(p, id2word)).split('$')[0])\n",
        "            model_predictions.append(val_p)\n",
        "            ground_truth.append(val_t)\n",
        "          except:\n",
        "            invalid_number_prediction_count += 1\n",
        "        ######################################\n",
        "    \n",
        "    all_model_predictions.append(model_predictions)\n",
        "    all_ground_truth.append(ground_truth)\n",
        "    invalid_number_prediction_counts.append(invalid_number_prediction_count)\n",
        "            \n",
        "print('\\n...training finished.')"
      ],
      "execution_count": 81,
      "outputs": [
        {
          "output_type": "stream",
          "text": [
            "Start training... \n",
            "\n",
            "Train: epoch 1\n",
            "Epoch: [1/15], step: [1/625], loss: 2.741922\n",
            "Epoch: [1/15], step: [201/625], loss: 1.853159\n",
            "Epoch: [1/15], step: [401/625], loss: 1.777217\n",
            "Epoch: [1/15], step: [601/625], loss: 1.696666\n",
            "Test: epoch 1 loss: 1.6308208\n",
            "X: 805+9150$#\n",
            "Y: 9955$#\n",
            "O: 11886$\n",
            "\n",
            "X: 8245+2144$\n",
            "Y: 10389$\n",
            "O: 11892$\n",
            "\n",
            "X: 2976+8069$\n",
            "Y: 11045$\n",
            "O: 11866$\n",
            "\n",
            "Train: epoch 2\n",
            "Epoch: [2/15], step: [1/625], loss: 1.654781\n",
            "Epoch: [2/15], step: [201/625], loss: 1.576678\n",
            "Epoch: [2/15], step: [401/625], loss: 1.570611\n",
            "Epoch: [2/15], step: [601/625], loss: 1.479993\n",
            "Test: epoch 2 loss: 1.3981222\n",
            "X: 6121-4698$\n",
            "Y: 1423$#\n",
            "O: 1566$#\n",
            "\n",
            "X: 5847+8687$\n",
            "Y: 14534$\n",
            "O: 15162$\n",
            "\n",
            "X: 8058-6427$\n",
            "Y: 1631$#\n",
            "O: 1566$#\n",
            "\n",
            "Train: epoch 3\n",
            "Epoch: [3/15], step: [1/625], loss: 1.452690\n",
            "Epoch: [3/15], step: [201/625], loss: 1.479598\n",
            "Epoch: [3/15], step: [401/625], loss: 1.454339\n",
            "Epoch: [3/15], step: [601/625], loss: 1.445782\n",
            "Test: epoch 3 loss: 1.3582646\n",
            "X: 8898+7669$\n",
            "Y: 16567$\n",
            "O: 16333$\n",
            "\n",
            "X: 4990+3132$\n",
            "Y: 8122$#\n",
            "O: 8044$#\n",
            "\n",
            "X: 5435+5404$\n",
            "Y: 10839$\n",
            "O: 11290$\n",
            "\n",
            "Train: epoch 4\n",
            "Epoch: [4/15], step: [1/625], loss: 1.410360\n",
            "Epoch: [4/15], step: [201/625], loss: 1.416873\n",
            "Epoch: [4/15], step: [401/625], loss: 1.389145\n",
            "Epoch: [4/15], step: [601/625], loss: 1.322765\n",
            "Test: epoch 4 loss: 1.2915047\n",
            "X: 1647-3550$\n",
            "Y: -1903$\n",
            "O: -1922$\n",
            "\n",
            "X: 6669+8729$\n",
            "Y: 15398$\n",
            "O: 15855$\n",
            "\n",
            "X: 3034+6546$\n",
            "Y: 9580$#\n",
            "O: 9997$#\n",
            "\n",
            "Train: epoch 5\n",
            "Epoch: [5/15], step: [1/625], loss: 1.353033\n",
            "Epoch: [5/15], step: [201/625], loss: 1.344067\n",
            "Epoch: [5/15], step: [401/625], loss: 1.307224\n",
            "Epoch: [5/15], step: [601/625], loss: 1.354952\n",
            "Test: epoch 5 loss: 1.3116684\n",
            "X: 773+1986$#\n",
            "Y: 2759$#\n",
            "O: 2689$#\n",
            "\n",
            "X: 9486-9429$\n",
            "Y: 57$###\n",
            "O: -25$##\n",
            "\n",
            "X: 1546-2251$\n",
            "Y: -705$#\n",
            "O: -675$#\n",
            "\n",
            "Train: epoch 6\n",
            "Epoch: [6/15], step: [1/625], loss: 1.344088\n",
            "Epoch: [6/15], step: [201/625], loss: 1.291514\n",
            "Epoch: [6/15], step: [401/625], loss: 1.303228\n",
            "Epoch: [6/15], step: [601/625], loss: 1.258558\n",
            "Test: epoch 6 loss: 1.2475946\n",
            "X: 76+173$###\n",
            "Y: 249$##\n",
            "O: 900$##\n",
            "\n",
            "X: 6275+3600$\n",
            "Y: 9875$#\n",
            "O: 9800$#\n",
            "\n",
            "X: 4713-8622$\n",
            "Y: -3909$\n",
            "O: -4099$\n",
            "\n",
            "Train: epoch 7\n",
            "Epoch: [7/15], step: [1/625], loss: 1.280256\n",
            "Epoch: [7/15], step: [201/625], loss: 1.267322\n",
            "Epoch: [7/15], step: [401/625], loss: 1.301705\n",
            "Epoch: [7/15], step: [601/625], loss: 1.214739\n",
            "Test: epoch 7 loss: 1.1793288\n",
            "X: 246-7188$#\n",
            "Y: -6942$\n",
            "O: -6966$\n",
            "\n",
            "X: 1354-3888$\n",
            "Y: -2534$\n",
            "O: -2566$\n",
            "\n",
            "X: 1957+3974$\n",
            "Y: 5931$#\n",
            "O: 6001$#\n",
            "\n",
            "Train: epoch 8\n",
            "Epoch: [8/15], step: [1/625], loss: 1.265644\n",
            "Epoch: [8/15], step: [201/625], loss: 1.193045\n",
            "Epoch: [8/15], step: [401/625], loss: 1.219624\n",
            "Epoch: [8/15], step: [601/625], loss: 1.177585\n",
            "Test: epoch 8 loss: 1.1128546\n",
            "X: 4958+5337$\n",
            "Y: 10295$\n",
            "O: 10190$\n",
            "\n",
            "X: 9769-3048$\n",
            "Y: 6721$#\n",
            "O: 6673$#\n",
            "\n",
            "X: 3188+9469$\n",
            "Y: 12657$\n",
            "O: 12677$\n",
            "\n",
            "Train: epoch 9\n",
            "Epoch: [9/15], step: [1/625], loss: 1.176138\n",
            "Epoch: [9/15], step: [201/625], loss: 1.131946\n",
            "Epoch: [9/15], step: [401/625], loss: 1.093397\n",
            "Epoch: [9/15], step: [601/625], loss: 1.080859\n",
            "Test: epoch 9 loss: 0.98855793\n",
            "X: 2909-6991$\n",
            "Y: -4082$\n",
            "O: -4033$\n",
            "\n",
            "X: 8096+8506$\n",
            "Y: 16602$\n",
            "O: 16596$\n",
            "\n",
            "X: 9699-7717$\n",
            "Y: 1982$#\n",
            "O: 1900$#\n",
            "\n",
            "Train: epoch 10\n",
            "Epoch: [10/15], step: [1/625], loss: 1.023099\n",
            "Epoch: [10/15], step: [201/625], loss: 1.031499\n",
            "Epoch: [10/15], step: [401/625], loss: 0.988887\n",
            "Epoch: [10/15], step: [601/625], loss: 1.008654\n",
            "Test: epoch 10 loss: 0.94792616\n",
            "X: 761-5351$#\n",
            "Y: -4590$\n",
            "O: -4616$\n",
            "\n",
            "X: 8829+7839$\n",
            "Y: 16668$\n",
            "O: 16664$\n",
            "\n",
            "X: 4202-4169$\n",
            "Y: 33$###\n",
            "O: 15$###\n",
            "\n",
            "Train: epoch 11\n",
            "Epoch: [11/15], step: [1/625], loss: 0.987536\n",
            "Epoch: [11/15], step: [201/625], loss: 0.999577\n",
            "Epoch: [11/15], step: [401/625], loss: 1.001084\n",
            "Epoch: [11/15], step: [601/625], loss: 0.948009\n",
            "Test: epoch 11 loss: 0.9187479\n",
            "X: 6406-6268$\n",
            "Y: 138$##\n",
            "O: 213$##\n",
            "\n",
            "X: 9958-7690$\n",
            "Y: 2268$#\n",
            "O: 2252$#\n",
            "\n",
            "X: 4228+2309$\n",
            "Y: 6537$#\n",
            "O: 6550$#\n",
            "\n",
            "Train: epoch 12\n",
            "Epoch: [12/15], step: [1/625], loss: 0.951475\n",
            "Epoch: [12/15], step: [201/625], loss: 0.971389\n",
            "Epoch: [12/15], step: [401/625], loss: 0.939954\n",
            "Epoch: [12/15], step: [601/625], loss: 0.940814\n",
            "Test: epoch 12 loss: 0.9038906\n",
            "X: 846-9892$#\n",
            "Y: -9046$\n",
            "O: -9074$\n",
            "\n",
            "X: 5850-2267$\n",
            "Y: 3583$#\n",
            "O: 3581$#\n",
            "\n",
            "X: 1892-5020$\n",
            "Y: -3128$\n",
            "O: -3107$\n",
            "\n",
            "Train: epoch 13\n",
            "Epoch: [13/15], step: [1/625], loss: 0.964495\n",
            "Epoch: [13/15], step: [201/625], loss: 0.930199\n",
            "Epoch: [13/15], step: [401/625], loss: 0.914048\n",
            "Epoch: [13/15], step: [601/625], loss: 0.914312\n",
            "Test: epoch 13 loss: 0.8496015\n",
            "X: 1187+6986$\n",
            "Y: 8173$#\n",
            "O: 8174$#\n",
            "\n",
            "X: 377+4683$#\n",
            "Y: 5060$#\n",
            "O: 4969$#\n",
            "\n",
            "X: 9506+3173$\n",
            "Y: 12679$\n",
            "O: 12690$\n",
            "\n",
            "Train: epoch 14\n",
            "Epoch: [14/15], step: [1/625], loss: 0.871735\n",
            "Epoch: [14/15], step: [201/625], loss: 0.897042\n",
            "Epoch: [14/15], step: [401/625], loss: 0.875725\n",
            "Epoch: [14/15], step: [601/625], loss: 0.903305\n",
            "Test: epoch 14 loss: 0.8603926\n",
            "X: 1923+8711$\n",
            "Y: 10634$\n",
            "O: 10631$\n",
            "\n",
            "X: 7296+5516$\n",
            "Y: 12812$\n",
            "O: 12826$\n",
            "\n",
            "X: 9453-3666$\n",
            "Y: 5787$#\n",
            "O: 5796$#\n",
            "\n",
            "Train: epoch 15\n",
            "Epoch: [15/15], step: [1/625], loss: 0.852489\n",
            "Epoch: [15/15], step: [201/625], loss: 0.860938\n",
            "Epoch: [15/15], step: [401/625], loss: 0.888887\n",
            "Epoch: [15/15], step: [601/625], loss: 0.887544\n",
            "Test: epoch 15 loss: 0.81804216\n",
            "X: 1205+5961$\n",
            "Y: 7166$#\n",
            "O: 7183$#\n",
            "\n",
            "X: 8077+6248$\n",
            "Y: 14325$\n",
            "O: 14310$\n",
            "\n",
            "X: 4075+5531$\n",
            "Y: 9606$#\n",
            "O: 9609$#\n",
            "\n",
            "\n",
            "...training finished.\n"
          ],
          "name": "stdout"
        }
      ]
    },
    {
      "cell_type": "markdown",
      "metadata": {
        "id": "O99qkCaXxzmI"
      },
      "source": [
        "## Evaluate results\n",
        "\n",
        "Because our task is simple and the output is straight-forward, we will use [MAE](https://en.wikipedia.org/wiki/Mean_absolute_error) metric to evaluate the trained model during the epochs. Compute the value of the metric for the output from each epoch."
      ]
    },
    {
      "cell_type": "code",
      "metadata": {
        "collapsed": true,
        "id": "q5r5El0GxzmI"
      },
      "source": [
        "from sklearn.metrics import mean_absolute_error"
      ],
      "execution_count": 82,
      "outputs": []
    },
    {
      "cell_type": "code",
      "metadata": {
        "collapsed": true,
        "colab": {
          "base_uri": "https://localhost:8080/"
        },
        "id": "aQB0RNITxzmJ",
        "outputId": "d02f0e68-1425-4b72-a405-5a5abe7482ee"
      },
      "source": [
        "for i, (gts, predictions, invalid_number_prediction_count) in enumerate(zip(all_ground_truth,\n",
        "                                                                            all_model_predictions,\n",
        "                                                                            invalid_number_prediction_counts), 1):\n",
        "    mae = mean_absolute_error(gts, predictions) ######### YOUR CODE HERE #############\n",
        "    print(\"Epoch: %i, MAE: %f, Invalid numbers: %i\" % (i, mae, invalid_number_prediction_count))"
      ],
      "execution_count": 83,
      "outputs": [
        {
          "output_type": "stream",
          "text": [
            "Epoch: 1, MAE: 1231.370550, Invalid numbers: 0\n",
            "Epoch: 2, MAE: 374.081100, Invalid numbers: 0\n",
            "Epoch: 3, MAE: 284.035900, Invalid numbers: 0\n",
            "Epoch: 4, MAE: 212.676850, Invalid numbers: 0\n",
            "Epoch: 5, MAE: 168.158150, Invalid numbers: 0\n",
            "Epoch: 6, MAE: 168.978800, Invalid numbers: 0\n",
            "Epoch: 7, MAE: 128.907200, Invalid numbers: 0\n",
            "Epoch: 8, MAE: 85.389300, Invalid numbers: 0\n",
            "Epoch: 9, MAE: 70.415400, Invalid numbers: 0\n",
            "Epoch: 10, MAE: 40.408500, Invalid numbers: 0\n",
            "Epoch: 11, MAE: 38.304100, Invalid numbers: 0\n",
            "Epoch: 12, MAE: 27.532800, Invalid numbers: 0\n",
            "Epoch: 13, MAE: 36.814400, Invalid numbers: 0\n",
            "Epoch: 14, MAE: 27.352200, Invalid numbers: 0\n",
            "Epoch: 15, MAE: 23.695000, Invalid numbers: 0\n"
          ],
          "name": "stdout"
        }
      ]
    }
  ]
}