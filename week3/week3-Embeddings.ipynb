{
  "nbformat": 4,
  "nbformat_minor": 0,
  "metadata": {
    "kernelspec": {
      "display_name": "Python 3",
      "language": "python",
      "name": "python3"
    },
    "language_info": {
      "codemirror_mode": {
        "name": "ipython",
        "version": 3
      },
      "file_extension": ".py",
      "mimetype": "text/x-python",
      "name": "python",
      "nbconvert_exporter": "python",
      "pygments_lexer": "ipython3",
      "version": "3.4.3"
    },
    "colab": {
      "name": "week3-Embeddings.ipynb",
      "provenance": [],
      "include_colab_link": true
    },
    "widgets": {
      "application/vnd.jupyter.widget-state+json": {
        "c97aecc82f0c4455ba9b6ca68dd05c58": {
          "model_module": "@jupyter-widgets/controls",
          "model_name": "HBoxModel",
          "state": {
            "_view_name": "HBoxView",
            "_dom_classes": [],
            "_model_name": "HBoxModel",
            "_view_module": "@jupyter-widgets/controls",
            "_model_module_version": "1.5.0",
            "_view_count": null,
            "_view_module_version": "1.5.0",
            "box_style": "",
            "layout": "IPY_MODEL_5b804ee6797543fd938fe3c064f90a66",
            "_model_module": "@jupyter-widgets/controls",
            "children": [
              "IPY_MODEL_5ff9c55ef228422a85b80ea35cde0daa",
              "IPY_MODEL_1243043f17924cd2bb3e8a2defe97833"
            ]
          }
        },
        "5b804ee6797543fd938fe3c064f90a66": {
          "model_module": "@jupyter-widgets/base",
          "model_name": "LayoutModel",
          "state": {
            "_view_name": "LayoutView",
            "grid_template_rows": null,
            "right": null,
            "justify_content": null,
            "_view_module": "@jupyter-widgets/base",
            "overflow": null,
            "_model_module_version": "1.2.0",
            "_view_count": null,
            "flex_flow": null,
            "width": null,
            "min_width": null,
            "border": null,
            "align_items": null,
            "bottom": null,
            "_model_module": "@jupyter-widgets/base",
            "top": null,
            "grid_column": null,
            "overflow_y": null,
            "overflow_x": null,
            "grid_auto_flow": null,
            "grid_area": null,
            "grid_template_columns": null,
            "flex": null,
            "_model_name": "LayoutModel",
            "justify_items": null,
            "grid_row": null,
            "max_height": null,
            "align_content": null,
            "visibility": null,
            "align_self": null,
            "height": null,
            "min_height": null,
            "padding": null,
            "grid_auto_rows": null,
            "grid_gap": null,
            "max_width": null,
            "order": null,
            "_view_module_version": "1.2.0",
            "grid_template_areas": null,
            "object_position": null,
            "object_fit": null,
            "grid_auto_columns": null,
            "margin": null,
            "display": null,
            "left": null
          }
        },
        "5ff9c55ef228422a85b80ea35cde0daa": {
          "model_module": "@jupyter-widgets/controls",
          "model_name": "FloatProgressModel",
          "state": {
            "_view_name": "ProgressView",
            "style": "IPY_MODEL_65b00515f48346ddac25af44c2e4c06b",
            "_dom_classes": [],
            "description": "train.tsv: 100%",
            "_model_name": "FloatProgressModel",
            "bar_style": "success",
            "max": 119127793,
            "_view_module": "@jupyter-widgets/controls",
            "_model_module_version": "1.5.0",
            "value": 119127793,
            "_view_count": null,
            "_view_module_version": "1.5.0",
            "orientation": "horizontal",
            "min": 0,
            "description_tooltip": null,
            "_model_module": "@jupyter-widgets/controls",
            "layout": "IPY_MODEL_3ecc074b87ff4dc4a2814d8da8ae134d"
          }
        },
        "1243043f17924cd2bb3e8a2defe97833": {
          "model_module": "@jupyter-widgets/controls",
          "model_name": "HTMLModel",
          "state": {
            "_view_name": "HTMLView",
            "style": "IPY_MODEL_05c802713a6e4712b24d9a7893575b9f",
            "_dom_classes": [],
            "description": "",
            "_model_name": "HTMLModel",
            "placeholder": "​",
            "_view_module": "@jupyter-widgets/controls",
            "_model_module_version": "1.5.0",
            "value": " 119M/119M [05:28&lt;00:00, 363kB/s]",
            "_view_count": null,
            "_view_module_version": "1.5.0",
            "description_tooltip": null,
            "_model_module": "@jupyter-widgets/controls",
            "layout": "IPY_MODEL_31516d500825430e99bac0b790a0839d"
          }
        },
        "65b00515f48346ddac25af44c2e4c06b": {
          "model_module": "@jupyter-widgets/controls",
          "model_name": "ProgressStyleModel",
          "state": {
            "_view_name": "StyleView",
            "_model_name": "ProgressStyleModel",
            "description_width": "initial",
            "_view_module": "@jupyter-widgets/base",
            "_model_module_version": "1.5.0",
            "_view_count": null,
            "_view_module_version": "1.2.0",
            "bar_color": null,
            "_model_module": "@jupyter-widgets/controls"
          }
        },
        "3ecc074b87ff4dc4a2814d8da8ae134d": {
          "model_module": "@jupyter-widgets/base",
          "model_name": "LayoutModel",
          "state": {
            "_view_name": "LayoutView",
            "grid_template_rows": null,
            "right": null,
            "justify_content": null,
            "_view_module": "@jupyter-widgets/base",
            "overflow": null,
            "_model_module_version": "1.2.0",
            "_view_count": null,
            "flex_flow": null,
            "width": null,
            "min_width": null,
            "border": null,
            "align_items": null,
            "bottom": null,
            "_model_module": "@jupyter-widgets/base",
            "top": null,
            "grid_column": null,
            "overflow_y": null,
            "overflow_x": null,
            "grid_auto_flow": null,
            "grid_area": null,
            "grid_template_columns": null,
            "flex": null,
            "_model_name": "LayoutModel",
            "justify_items": null,
            "grid_row": null,
            "max_height": null,
            "align_content": null,
            "visibility": null,
            "align_self": null,
            "height": null,
            "min_height": null,
            "padding": null,
            "grid_auto_rows": null,
            "grid_gap": null,
            "max_width": null,
            "order": null,
            "_view_module_version": "1.2.0",
            "grid_template_areas": null,
            "object_position": null,
            "object_fit": null,
            "grid_auto_columns": null,
            "margin": null,
            "display": null,
            "left": null
          }
        },
        "05c802713a6e4712b24d9a7893575b9f": {
          "model_module": "@jupyter-widgets/controls",
          "model_name": "DescriptionStyleModel",
          "state": {
            "_view_name": "StyleView",
            "_model_name": "DescriptionStyleModel",
            "description_width": "",
            "_view_module": "@jupyter-widgets/base",
            "_model_module_version": "1.5.0",
            "_view_count": null,
            "_view_module_version": "1.2.0",
            "_model_module": "@jupyter-widgets/controls"
          }
        },
        "31516d500825430e99bac0b790a0839d": {
          "model_module": "@jupyter-widgets/base",
          "model_name": "LayoutModel",
          "state": {
            "_view_name": "LayoutView",
            "grid_template_rows": null,
            "right": null,
            "justify_content": null,
            "_view_module": "@jupyter-widgets/base",
            "overflow": null,
            "_model_module_version": "1.2.0",
            "_view_count": null,
            "flex_flow": null,
            "width": null,
            "min_width": null,
            "border": null,
            "align_items": null,
            "bottom": null,
            "_model_module": "@jupyter-widgets/base",
            "top": null,
            "grid_column": null,
            "overflow_y": null,
            "overflow_x": null,
            "grid_auto_flow": null,
            "grid_area": null,
            "grid_template_columns": null,
            "flex": null,
            "_model_name": "LayoutModel",
            "justify_items": null,
            "grid_row": null,
            "max_height": null,
            "align_content": null,
            "visibility": null,
            "align_self": null,
            "height": null,
            "min_height": null,
            "padding": null,
            "grid_auto_rows": null,
            "grid_gap": null,
            "max_width": null,
            "order": null,
            "_view_module_version": "1.2.0",
            "grid_template_areas": null,
            "object_position": null,
            "object_fit": null,
            "grid_auto_columns": null,
            "margin": null,
            "display": null,
            "left": null
          }
        },
        "8faa4ff021c74fbf91da85a368c5e966": {
          "model_module": "@jupyter-widgets/controls",
          "model_name": "HBoxModel",
          "state": {
            "_view_name": "HBoxView",
            "_dom_classes": [],
            "_model_name": "HBoxModel",
            "_view_module": "@jupyter-widgets/controls",
            "_model_module_version": "1.5.0",
            "_view_count": null,
            "_view_module_version": "1.5.0",
            "box_style": "",
            "layout": "IPY_MODEL_a3931e05a8944c1690c6420687f5a362",
            "_model_module": "@jupyter-widgets/controls",
            "children": [
              "IPY_MODEL_d83fcb61f0584e469c2e15926752896b",
              "IPY_MODEL_ee7cdc735ced4b62adfbc5a021c2ed49"
            ]
          }
        },
        "a3931e05a8944c1690c6420687f5a362": {
          "model_module": "@jupyter-widgets/base",
          "model_name": "LayoutModel",
          "state": {
            "_view_name": "LayoutView",
            "grid_template_rows": null,
            "right": null,
            "justify_content": null,
            "_view_module": "@jupyter-widgets/base",
            "overflow": null,
            "_model_module_version": "1.2.0",
            "_view_count": null,
            "flex_flow": null,
            "width": null,
            "min_width": null,
            "border": null,
            "align_items": null,
            "bottom": null,
            "_model_module": "@jupyter-widgets/base",
            "top": null,
            "grid_column": null,
            "overflow_y": null,
            "overflow_x": null,
            "grid_auto_flow": null,
            "grid_area": null,
            "grid_template_columns": null,
            "flex": null,
            "_model_name": "LayoutModel",
            "justify_items": null,
            "grid_row": null,
            "max_height": null,
            "align_content": null,
            "visibility": null,
            "align_self": null,
            "height": null,
            "min_height": null,
            "padding": null,
            "grid_auto_rows": null,
            "grid_gap": null,
            "max_width": null,
            "order": null,
            "_view_module_version": "1.2.0",
            "grid_template_areas": null,
            "object_position": null,
            "object_fit": null,
            "grid_auto_columns": null,
            "margin": null,
            "display": null,
            "left": null
          }
        },
        "d83fcb61f0584e469c2e15926752896b": {
          "model_module": "@jupyter-widgets/controls",
          "model_name": "FloatProgressModel",
          "state": {
            "_view_name": "ProgressView",
            "style": "IPY_MODEL_386fa9b774bd4cbe9a4f211e57fb8254",
            "_dom_classes": [],
            "description": "validation.tsv: 100%",
            "_model_name": "FloatProgressModel",
            "bar_style": "success",
            "max": 535543630,
            "_view_module": "@jupyter-widgets/controls",
            "_model_module_version": "1.5.0",
            "value": 535543630,
            "_view_count": null,
            "_view_module_version": "1.5.0",
            "orientation": "horizontal",
            "min": 0,
            "description_tooltip": null,
            "_model_module": "@jupyter-widgets/controls",
            "layout": "IPY_MODEL_afc1c0c50220491c9950fa5b45a7f899"
          }
        },
        "ee7cdc735ced4b62adfbc5a021c2ed49": {
          "model_module": "@jupyter-widgets/controls",
          "model_name": "HTMLModel",
          "state": {
            "_view_name": "HTMLView",
            "style": "IPY_MODEL_6d6ca3f661f047169b35601b91c90c85",
            "_dom_classes": [],
            "description": "",
            "_model_name": "HTMLModel",
            "placeholder": "​",
            "_view_module": "@jupyter-widgets/controls",
            "_model_module_version": "1.5.0",
            "value": " 536M/536M [00:35&lt;00:00, 15.0MB/s]",
            "_view_count": null,
            "_view_module_version": "1.5.0",
            "description_tooltip": null,
            "_model_module": "@jupyter-widgets/controls",
            "layout": "IPY_MODEL_8e921bb640f44bcabce6f8ad703e9eb7"
          }
        },
        "386fa9b774bd4cbe9a4f211e57fb8254": {
          "model_module": "@jupyter-widgets/controls",
          "model_name": "ProgressStyleModel",
          "state": {
            "_view_name": "StyleView",
            "_model_name": "ProgressStyleModel",
            "description_width": "initial",
            "_view_module": "@jupyter-widgets/base",
            "_model_module_version": "1.5.0",
            "_view_count": null,
            "_view_module_version": "1.2.0",
            "bar_color": null,
            "_model_module": "@jupyter-widgets/controls"
          }
        },
        "afc1c0c50220491c9950fa5b45a7f899": {
          "model_module": "@jupyter-widgets/base",
          "model_name": "LayoutModel",
          "state": {
            "_view_name": "LayoutView",
            "grid_template_rows": null,
            "right": null,
            "justify_content": null,
            "_view_module": "@jupyter-widgets/base",
            "overflow": null,
            "_model_module_version": "1.2.0",
            "_view_count": null,
            "flex_flow": null,
            "width": null,
            "min_width": null,
            "border": null,
            "align_items": null,
            "bottom": null,
            "_model_module": "@jupyter-widgets/base",
            "top": null,
            "grid_column": null,
            "overflow_y": null,
            "overflow_x": null,
            "grid_auto_flow": null,
            "grid_area": null,
            "grid_template_columns": null,
            "flex": null,
            "_model_name": "LayoutModel",
            "justify_items": null,
            "grid_row": null,
            "max_height": null,
            "align_content": null,
            "visibility": null,
            "align_self": null,
            "height": null,
            "min_height": null,
            "padding": null,
            "grid_auto_rows": null,
            "grid_gap": null,
            "max_width": null,
            "order": null,
            "_view_module_version": "1.2.0",
            "grid_template_areas": null,
            "object_position": null,
            "object_fit": null,
            "grid_auto_columns": null,
            "margin": null,
            "display": null,
            "left": null
          }
        },
        "6d6ca3f661f047169b35601b91c90c85": {
          "model_module": "@jupyter-widgets/controls",
          "model_name": "DescriptionStyleModel",
          "state": {
            "_view_name": "StyleView",
            "_model_name": "DescriptionStyleModel",
            "description_width": "",
            "_view_module": "@jupyter-widgets/base",
            "_model_module_version": "1.5.0",
            "_view_count": null,
            "_view_module_version": "1.2.0",
            "_model_module": "@jupyter-widgets/controls"
          }
        },
        "8e921bb640f44bcabce6f8ad703e9eb7": {
          "model_module": "@jupyter-widgets/base",
          "model_name": "LayoutModel",
          "state": {
            "_view_name": "LayoutView",
            "grid_template_rows": null,
            "right": null,
            "justify_content": null,
            "_view_module": "@jupyter-widgets/base",
            "overflow": null,
            "_model_module_version": "1.2.0",
            "_view_count": null,
            "flex_flow": null,
            "width": null,
            "min_width": null,
            "border": null,
            "align_items": null,
            "bottom": null,
            "_model_module": "@jupyter-widgets/base",
            "top": null,
            "grid_column": null,
            "overflow_y": null,
            "overflow_x": null,
            "grid_auto_flow": null,
            "grid_area": null,
            "grid_template_columns": null,
            "flex": null,
            "_model_name": "LayoutModel",
            "justify_items": null,
            "grid_row": null,
            "max_height": null,
            "align_content": null,
            "visibility": null,
            "align_self": null,
            "height": null,
            "min_height": null,
            "padding": null,
            "grid_auto_rows": null,
            "grid_gap": null,
            "max_width": null,
            "order": null,
            "_view_module_version": "1.2.0",
            "grid_template_areas": null,
            "object_position": null,
            "object_fit": null,
            "grid_auto_columns": null,
            "margin": null,
            "display": null,
            "left": null
          }
        },
        "c304fc7f3e2342549b5e894a13549f44": {
          "model_module": "@jupyter-widgets/controls",
          "model_name": "HBoxModel",
          "state": {
            "_view_name": "HBoxView",
            "_dom_classes": [],
            "_model_name": "HBoxModel",
            "_view_module": "@jupyter-widgets/controls",
            "_model_module_version": "1.5.0",
            "_view_count": null,
            "_view_module_version": "1.5.0",
            "box_style": "",
            "layout": "IPY_MODEL_515af502216f4770877d088cca3d4d6e",
            "_model_module": "@jupyter-widgets/controls",
            "children": [
              "IPY_MODEL_34afd99c26304e48a0e98ac45ed70b75",
              "IPY_MODEL_2327ecefe04540b2a3131fe7cb02f1b9"
            ]
          }
        },
        "515af502216f4770877d088cca3d4d6e": {
          "model_module": "@jupyter-widgets/base",
          "model_name": "LayoutModel",
          "state": {
            "_view_name": "LayoutView",
            "grid_template_rows": null,
            "right": null,
            "justify_content": null,
            "_view_module": "@jupyter-widgets/base",
            "overflow": null,
            "_model_module_version": "1.2.0",
            "_view_count": null,
            "flex_flow": null,
            "width": null,
            "min_width": null,
            "border": null,
            "align_items": null,
            "bottom": null,
            "_model_module": "@jupyter-widgets/base",
            "top": null,
            "grid_column": null,
            "overflow_y": null,
            "overflow_x": null,
            "grid_auto_flow": null,
            "grid_area": null,
            "grid_template_columns": null,
            "flex": null,
            "_model_name": "LayoutModel",
            "justify_items": null,
            "grid_row": null,
            "max_height": null,
            "align_content": null,
            "visibility": null,
            "align_self": null,
            "height": null,
            "min_height": null,
            "padding": null,
            "grid_auto_rows": null,
            "grid_gap": null,
            "max_width": null,
            "order": null,
            "_view_module_version": "1.2.0",
            "grid_template_areas": null,
            "object_position": null,
            "object_fit": null,
            "grid_auto_columns": null,
            "margin": null,
            "display": null,
            "left": null
          }
        },
        "34afd99c26304e48a0e98ac45ed70b75": {
          "model_module": "@jupyter-widgets/controls",
          "model_name": "FloatProgressModel",
          "state": {
            "_view_name": "ProgressView",
            "style": "IPY_MODEL_aca2a0e13d114db7987107c9db1de9ad",
            "_dom_classes": [],
            "description": "test.tsv: 100%",
            "_model_name": "FloatProgressModel",
            "bar_style": "success",
            "max": 46408910,
            "_view_module": "@jupyter-widgets/controls",
            "_model_module_version": "1.5.0",
            "value": 46408910,
            "_view_count": null,
            "_view_module_version": "1.5.0",
            "orientation": "horizontal",
            "min": 0,
            "description_tooltip": null,
            "_model_module": "@jupyter-widgets/controls",
            "layout": "IPY_MODEL_df7064a3a160412fb60987fa01b35e9b"
          }
        },
        "2327ecefe04540b2a3131fe7cb02f1b9": {
          "model_module": "@jupyter-widgets/controls",
          "model_name": "HTMLModel",
          "state": {
            "_view_name": "HTMLView",
            "style": "IPY_MODEL_604e93195b3e4236b1018f91491ad388",
            "_dom_classes": [],
            "description": "",
            "_model_name": "HTMLModel",
            "placeholder": "​",
            "_view_module": "@jupyter-widgets/controls",
            "_model_module_version": "1.5.0",
            "value": " 46.4M/46.4M [00:09&lt;00:00, 5.04MB/s]",
            "_view_count": null,
            "_view_module_version": "1.5.0",
            "description_tooltip": null,
            "_model_module": "@jupyter-widgets/controls",
            "layout": "IPY_MODEL_350347beb079446ebbd83c4e2a2e8be6"
          }
        },
        "aca2a0e13d114db7987107c9db1de9ad": {
          "model_module": "@jupyter-widgets/controls",
          "model_name": "ProgressStyleModel",
          "state": {
            "_view_name": "StyleView",
            "_model_name": "ProgressStyleModel",
            "description_width": "initial",
            "_view_module": "@jupyter-widgets/base",
            "_model_module_version": "1.5.0",
            "_view_count": null,
            "_view_module_version": "1.2.0",
            "bar_color": null,
            "_model_module": "@jupyter-widgets/controls"
          }
        },
        "df7064a3a160412fb60987fa01b35e9b": {
          "model_module": "@jupyter-widgets/base",
          "model_name": "LayoutModel",
          "state": {
            "_view_name": "LayoutView",
            "grid_template_rows": null,
            "right": null,
            "justify_content": null,
            "_view_module": "@jupyter-widgets/base",
            "overflow": null,
            "_model_module_version": "1.2.0",
            "_view_count": null,
            "flex_flow": null,
            "width": null,
            "min_width": null,
            "border": null,
            "align_items": null,
            "bottom": null,
            "_model_module": "@jupyter-widgets/base",
            "top": null,
            "grid_column": null,
            "overflow_y": null,
            "overflow_x": null,
            "grid_auto_flow": null,
            "grid_area": null,
            "grid_template_columns": null,
            "flex": null,
            "_model_name": "LayoutModel",
            "justify_items": null,
            "grid_row": null,
            "max_height": null,
            "align_content": null,
            "visibility": null,
            "align_self": null,
            "height": null,
            "min_height": null,
            "padding": null,
            "grid_auto_rows": null,
            "grid_gap": null,
            "max_width": null,
            "order": null,
            "_view_module_version": "1.2.0",
            "grid_template_areas": null,
            "object_position": null,
            "object_fit": null,
            "grid_auto_columns": null,
            "margin": null,
            "display": null,
            "left": null
          }
        },
        "604e93195b3e4236b1018f91491ad388": {
          "model_module": "@jupyter-widgets/controls",
          "model_name": "DescriptionStyleModel",
          "state": {
            "_view_name": "StyleView",
            "_model_name": "DescriptionStyleModel",
            "description_width": "",
            "_view_module": "@jupyter-widgets/base",
            "_model_module_version": "1.5.0",
            "_view_count": null,
            "_view_module_version": "1.2.0",
            "_model_module": "@jupyter-widgets/controls"
          }
        },
        "350347beb079446ebbd83c4e2a2e8be6": {
          "model_module": "@jupyter-widgets/base",
          "model_name": "LayoutModel",
          "state": {
            "_view_name": "LayoutView",
            "grid_template_rows": null,
            "right": null,
            "justify_content": null,
            "_view_module": "@jupyter-widgets/base",
            "overflow": null,
            "_model_module_version": "1.2.0",
            "_view_count": null,
            "flex_flow": null,
            "width": null,
            "min_width": null,
            "border": null,
            "align_items": null,
            "bottom": null,
            "_model_module": "@jupyter-widgets/base",
            "top": null,
            "grid_column": null,
            "overflow_y": null,
            "overflow_x": null,
            "grid_auto_flow": null,
            "grid_area": null,
            "grid_template_columns": null,
            "flex": null,
            "_model_name": "LayoutModel",
            "justify_items": null,
            "grid_row": null,
            "max_height": null,
            "align_content": null,
            "visibility": null,
            "align_self": null,
            "height": null,
            "min_height": null,
            "padding": null,
            "grid_auto_rows": null,
            "grid_gap": null,
            "max_width": null,
            "order": null,
            "_view_module_version": "1.2.0",
            "grid_template_areas": null,
            "object_position": null,
            "object_fit": null,
            "grid_auto_columns": null,
            "margin": null,
            "display": null,
            "left": null
          }
        },
        "73be35d72e17411ca075d1adc3780a42": {
          "model_module": "@jupyter-widgets/controls",
          "model_name": "HBoxModel",
          "state": {
            "_view_name": "HBoxView",
            "_dom_classes": [],
            "_model_name": "HBoxModel",
            "_view_module": "@jupyter-widgets/controls",
            "_model_module_version": "1.5.0",
            "_view_count": null,
            "_view_module_version": "1.5.0",
            "box_style": "",
            "layout": "IPY_MODEL_70a02c6958e5422ba52e45e6f4a83872",
            "_model_module": "@jupyter-widgets/controls",
            "children": [
              "IPY_MODEL_0a087646a5494ceb98de8ab70f6c6d4e",
              "IPY_MODEL_1d4bcb59deda47338941fa201ae075db"
            ]
          }
        },
        "70a02c6958e5422ba52e45e6f4a83872": {
          "model_module": "@jupyter-widgets/base",
          "model_name": "LayoutModel",
          "state": {
            "_view_name": "LayoutView",
            "grid_template_rows": null,
            "right": null,
            "justify_content": null,
            "_view_module": "@jupyter-widgets/base",
            "overflow": null,
            "_model_module_version": "1.2.0",
            "_view_count": null,
            "flex_flow": null,
            "width": null,
            "min_width": null,
            "border": null,
            "align_items": null,
            "bottom": null,
            "_model_module": "@jupyter-widgets/base",
            "top": null,
            "grid_column": null,
            "overflow_y": null,
            "overflow_x": null,
            "grid_auto_flow": null,
            "grid_area": null,
            "grid_template_columns": null,
            "flex": null,
            "_model_name": "LayoutModel",
            "justify_items": null,
            "grid_row": null,
            "max_height": null,
            "align_content": null,
            "visibility": null,
            "align_self": null,
            "height": null,
            "min_height": null,
            "padding": null,
            "grid_auto_rows": null,
            "grid_gap": null,
            "max_width": null,
            "order": null,
            "_view_module_version": "1.2.0",
            "grid_template_areas": null,
            "object_position": null,
            "object_fit": null,
            "grid_auto_columns": null,
            "margin": null,
            "display": null,
            "left": null
          }
        },
        "0a087646a5494ceb98de8ab70f6c6d4e": {
          "model_module": "@jupyter-widgets/controls",
          "model_name": "FloatProgressModel",
          "state": {
            "_view_name": "ProgressView",
            "style": "IPY_MODEL_dc77ce4a26614123bdd704e8e5c12509",
            "_dom_classes": [],
            "description": "test_embeddings.tsv: 100%",
            "_model_name": "FloatProgressModel",
            "bar_style": "success",
            "max": 5333,
            "_view_module": "@jupyter-widgets/controls",
            "_model_module_version": "1.5.0",
            "value": 5333,
            "_view_count": null,
            "_view_module_version": "1.5.0",
            "orientation": "horizontal",
            "min": 0,
            "description_tooltip": null,
            "_model_module": "@jupyter-widgets/controls",
            "layout": "IPY_MODEL_c27af923e12d4d7b86d99cbccdf7095d"
          }
        },
        "1d4bcb59deda47338941fa201ae075db": {
          "model_module": "@jupyter-widgets/controls",
          "model_name": "HTMLModel",
          "state": {
            "_view_name": "HTMLView",
            "style": "IPY_MODEL_1bcdaae156ae4604b4b08320b4172f90",
            "_dom_classes": [],
            "description": "",
            "_model_name": "HTMLModel",
            "placeholder": "​",
            "_view_module": "@jupyter-widgets/controls",
            "_model_module_version": "1.5.0",
            "value": " 5.33k/5.33k [00:00&lt;00:00, 5.66kB/s]",
            "_view_count": null,
            "_view_module_version": "1.5.0",
            "description_tooltip": null,
            "_model_module": "@jupyter-widgets/controls",
            "layout": "IPY_MODEL_683aa427e2e24fbc858ded3068036043"
          }
        },
        "dc77ce4a26614123bdd704e8e5c12509": {
          "model_module": "@jupyter-widgets/controls",
          "model_name": "ProgressStyleModel",
          "state": {
            "_view_name": "StyleView",
            "_model_name": "ProgressStyleModel",
            "description_width": "initial",
            "_view_module": "@jupyter-widgets/base",
            "_model_module_version": "1.5.0",
            "_view_count": null,
            "_view_module_version": "1.2.0",
            "bar_color": null,
            "_model_module": "@jupyter-widgets/controls"
          }
        },
        "c27af923e12d4d7b86d99cbccdf7095d": {
          "model_module": "@jupyter-widgets/base",
          "model_name": "LayoutModel",
          "state": {
            "_view_name": "LayoutView",
            "grid_template_rows": null,
            "right": null,
            "justify_content": null,
            "_view_module": "@jupyter-widgets/base",
            "overflow": null,
            "_model_module_version": "1.2.0",
            "_view_count": null,
            "flex_flow": null,
            "width": null,
            "min_width": null,
            "border": null,
            "align_items": null,
            "bottom": null,
            "_model_module": "@jupyter-widgets/base",
            "top": null,
            "grid_column": null,
            "overflow_y": null,
            "overflow_x": null,
            "grid_auto_flow": null,
            "grid_area": null,
            "grid_template_columns": null,
            "flex": null,
            "_model_name": "LayoutModel",
            "justify_items": null,
            "grid_row": null,
            "max_height": null,
            "align_content": null,
            "visibility": null,
            "align_self": null,
            "height": null,
            "min_height": null,
            "padding": null,
            "grid_auto_rows": null,
            "grid_gap": null,
            "max_width": null,
            "order": null,
            "_view_module_version": "1.2.0",
            "grid_template_areas": null,
            "object_position": null,
            "object_fit": null,
            "grid_auto_columns": null,
            "margin": null,
            "display": null,
            "left": null
          }
        },
        "1bcdaae156ae4604b4b08320b4172f90": {
          "model_module": "@jupyter-widgets/controls",
          "model_name": "DescriptionStyleModel",
          "state": {
            "_view_name": "StyleView",
            "_model_name": "DescriptionStyleModel",
            "description_width": "",
            "_view_module": "@jupyter-widgets/base",
            "_model_module_version": "1.5.0",
            "_view_count": null,
            "_view_module_version": "1.2.0",
            "_model_module": "@jupyter-widgets/controls"
          }
        },
        "683aa427e2e24fbc858ded3068036043": {
          "model_module": "@jupyter-widgets/base",
          "model_name": "LayoutModel",
          "state": {
            "_view_name": "LayoutView",
            "grid_template_rows": null,
            "right": null,
            "justify_content": null,
            "_view_module": "@jupyter-widgets/base",
            "overflow": null,
            "_model_module_version": "1.2.0",
            "_view_count": null,
            "flex_flow": null,
            "width": null,
            "min_width": null,
            "border": null,
            "align_items": null,
            "bottom": null,
            "_model_module": "@jupyter-widgets/base",
            "top": null,
            "grid_column": null,
            "overflow_y": null,
            "overflow_x": null,
            "grid_auto_flow": null,
            "grid_area": null,
            "grid_template_columns": null,
            "flex": null,
            "_model_name": "LayoutModel",
            "justify_items": null,
            "grid_row": null,
            "max_height": null,
            "align_content": null,
            "visibility": null,
            "align_self": null,
            "height": null,
            "min_height": null,
            "padding": null,
            "grid_auto_rows": null,
            "grid_gap": null,
            "max_width": null,
            "order": null,
            "_view_module_version": "1.2.0",
            "grid_template_areas": null,
            "object_position": null,
            "object_fit": null,
            "grid_auto_columns": null,
            "margin": null,
            "display": null,
            "left": null
          }
        },
        "50f488721b944883a1b46c5ed6af0cc6": {
          "model_module": "@jupyter-widgets/controls",
          "model_name": "HBoxModel",
          "state": {
            "_view_name": "HBoxView",
            "_dom_classes": [],
            "_model_name": "HBoxModel",
            "_view_module": "@jupyter-widgets/controls",
            "_model_module_version": "1.5.0",
            "_view_count": null,
            "_view_module_version": "1.5.0",
            "box_style": "",
            "layout": "IPY_MODEL_b5bceadbe928466486f6567747df57ab",
            "_model_module": "@jupyter-widgets/controls",
            "children": [
              "IPY_MODEL_d9f9544440e14eee86e3b14c9e12e4d1",
              "IPY_MODEL_618e4a2a43334030975337e28735214b"
            ]
          }
        },
        "b5bceadbe928466486f6567747df57ab": {
          "model_module": "@jupyter-widgets/base",
          "model_name": "LayoutModel",
          "state": {
            "_view_name": "LayoutView",
            "grid_template_rows": null,
            "right": null,
            "justify_content": null,
            "_view_module": "@jupyter-widgets/base",
            "overflow": null,
            "_model_module_version": "1.2.0",
            "_view_count": null,
            "flex_flow": null,
            "width": null,
            "min_width": null,
            "border": null,
            "align_items": null,
            "bottom": null,
            "_model_module": "@jupyter-widgets/base",
            "top": null,
            "grid_column": null,
            "overflow_y": null,
            "overflow_x": null,
            "grid_auto_flow": null,
            "grid_area": null,
            "grid_template_columns": null,
            "flex": null,
            "_model_name": "LayoutModel",
            "justify_items": null,
            "grid_row": null,
            "max_height": null,
            "align_content": null,
            "visibility": null,
            "align_self": null,
            "height": null,
            "min_height": null,
            "padding": null,
            "grid_auto_rows": null,
            "grid_gap": null,
            "max_width": null,
            "order": null,
            "_view_module_version": "1.2.0",
            "grid_template_areas": null,
            "object_position": null,
            "object_fit": null,
            "grid_auto_columns": null,
            "margin": null,
            "display": null,
            "left": null
          }
        },
        "d9f9544440e14eee86e3b14c9e12e4d1": {
          "model_module": "@jupyter-widgets/controls",
          "model_name": "FloatProgressModel",
          "state": {
            "_view_name": "ProgressView",
            "style": "IPY_MODEL_175237f1268548118ebdf856dfc211a8",
            "_dom_classes": [],
            "description": "GoogleNews-vectors-negative300.bin.gz: 100%",
            "_model_name": "FloatProgressModel",
            "bar_style": "success",
            "max": 1647046227,
            "_view_module": "@jupyter-widgets/controls",
            "_model_module_version": "1.5.0",
            "value": 1647046227,
            "_view_count": null,
            "_view_module_version": "1.5.0",
            "orientation": "horizontal",
            "min": 0,
            "description_tooltip": null,
            "_model_module": "@jupyter-widgets/controls",
            "layout": "IPY_MODEL_88d266f36a114bf594dda8edb3967f58"
          }
        },
        "618e4a2a43334030975337e28735214b": {
          "model_module": "@jupyter-widgets/controls",
          "model_name": "HTMLModel",
          "state": {
            "_view_name": "HTMLView",
            "style": "IPY_MODEL_6a282f3732304c349868369d353f0e50",
            "_dom_classes": [],
            "description": "",
            "_model_name": "HTMLModel",
            "placeholder": "​",
            "_view_module": "@jupyter-widgets/controls",
            "_model_module_version": "1.5.0",
            "value": " 1.65G/1.65G [01:46&lt;00:00, 15.4MB/s]",
            "_view_count": null,
            "_view_module_version": "1.5.0",
            "description_tooltip": null,
            "_model_module": "@jupyter-widgets/controls",
            "layout": "IPY_MODEL_fb8a86535120447494c4bd6a2e6fac6e"
          }
        },
        "175237f1268548118ebdf856dfc211a8": {
          "model_module": "@jupyter-widgets/controls",
          "model_name": "ProgressStyleModel",
          "state": {
            "_view_name": "StyleView",
            "_model_name": "ProgressStyleModel",
            "description_width": "initial",
            "_view_module": "@jupyter-widgets/base",
            "_model_module_version": "1.5.0",
            "_view_count": null,
            "_view_module_version": "1.2.0",
            "bar_color": null,
            "_model_module": "@jupyter-widgets/controls"
          }
        },
        "88d266f36a114bf594dda8edb3967f58": {
          "model_module": "@jupyter-widgets/base",
          "model_name": "LayoutModel",
          "state": {
            "_view_name": "LayoutView",
            "grid_template_rows": null,
            "right": null,
            "justify_content": null,
            "_view_module": "@jupyter-widgets/base",
            "overflow": null,
            "_model_module_version": "1.2.0",
            "_view_count": null,
            "flex_flow": null,
            "width": null,
            "min_width": null,
            "border": null,
            "align_items": null,
            "bottom": null,
            "_model_module": "@jupyter-widgets/base",
            "top": null,
            "grid_column": null,
            "overflow_y": null,
            "overflow_x": null,
            "grid_auto_flow": null,
            "grid_area": null,
            "grid_template_columns": null,
            "flex": null,
            "_model_name": "LayoutModel",
            "justify_items": null,
            "grid_row": null,
            "max_height": null,
            "align_content": null,
            "visibility": null,
            "align_self": null,
            "height": null,
            "min_height": null,
            "padding": null,
            "grid_auto_rows": null,
            "grid_gap": null,
            "max_width": null,
            "order": null,
            "_view_module_version": "1.2.0",
            "grid_template_areas": null,
            "object_position": null,
            "object_fit": null,
            "grid_auto_columns": null,
            "margin": null,
            "display": null,
            "left": null
          }
        },
        "6a282f3732304c349868369d353f0e50": {
          "model_module": "@jupyter-widgets/controls",
          "model_name": "DescriptionStyleModel",
          "state": {
            "_view_name": "StyleView",
            "_model_name": "DescriptionStyleModel",
            "description_width": "",
            "_view_module": "@jupyter-widgets/base",
            "_model_module_version": "1.5.0",
            "_view_count": null,
            "_view_module_version": "1.2.0",
            "_model_module": "@jupyter-widgets/controls"
          }
        },
        "fb8a86535120447494c4bd6a2e6fac6e": {
          "model_module": "@jupyter-widgets/base",
          "model_name": "LayoutModel",
          "state": {
            "_view_name": "LayoutView",
            "grid_template_rows": null,
            "right": null,
            "justify_content": null,
            "_view_module": "@jupyter-widgets/base",
            "overflow": null,
            "_model_module_version": "1.2.0",
            "_view_count": null,
            "flex_flow": null,
            "width": null,
            "min_width": null,
            "border": null,
            "align_items": null,
            "bottom": null,
            "_model_module": "@jupyter-widgets/base",
            "top": null,
            "grid_column": null,
            "overflow_y": null,
            "overflow_x": null,
            "grid_auto_flow": null,
            "grid_area": null,
            "grid_template_columns": null,
            "flex": null,
            "_model_name": "LayoutModel",
            "justify_items": null,
            "grid_row": null,
            "max_height": null,
            "align_content": null,
            "visibility": null,
            "align_self": null,
            "height": null,
            "min_height": null,
            "padding": null,
            "grid_auto_rows": null,
            "grid_gap": null,
            "max_width": null,
            "order": null,
            "_view_module_version": "1.2.0",
            "grid_template_areas": null,
            "object_position": null,
            "object_fit": null,
            "grid_auto_columns": null,
            "margin": null,
            "display": null,
            "left": null
          }
        }
      }
    }
  },
  "cells": [
    {
      "cell_type": "markdown",
      "metadata": {
        "id": "view-in-github",
        "colab_type": "text"
      },
      "source": [
        "<a href=\"https://colab.research.google.com/github/erikycd/natural-language-processing/blob/master/week3/week3-Embeddings.ipynb\" target=\"_parent\"><img src=\"https://colab.research.google.com/assets/colab-badge.svg\" alt=\"Open In Colab\"/></a>"
      ]
    },
    {
      "cell_type": "markdown",
      "metadata": {
        "id": "N4D1Cc2kAnRX"
      },
      "source": [
        "# Find duplicate questions on StackOverflow by their embeddings\n",
        "\n",
        "In this assignment you will learn how to calculate a similarity for pieces of text. Using this approach you will know how to find duplicate questions from [StackOverflow](https://stackoverflow.com)."
      ]
    },
    {
      "cell_type": "markdown",
      "metadata": {
        "id": "6INAe-hNAnRi"
      },
      "source": [
        "### Libraries\n",
        "\n",
        "In this task you will you will need the following libraries:\n",
        "- [StarSpace](https://github.com/facebookresearch/StarSpace) — a general-purpose model for efficient learning of entity embeddings from Facebook\n",
        "- [Gensim](https://radimrehurek.com/gensim/) — a tool for solving various NLP-related tasks (topic modeling, text representation, ...)\n",
        "- [Numpy](http://www.numpy.org) — a package for scientific computing.\n",
        "- [scikit-learn](http://scikit-learn.org/stable/index.html) — a tool for data mining and data analysis.\n",
        "- [Nltk](http://www.nltk.org) — a platform to work with human language data."
      ]
    },
    {
      "cell_type": "markdown",
      "metadata": {
        "id": "-0UWqI6MAnRj"
      },
      "source": [
        "### Data\n",
        "\n",
        "The following cell will download all data required for this assignment into the folder `week3/data`."
      ]
    },
    {
      "cell_type": "code",
      "metadata": {
        "collapsed": true,
        "id": "7FCVXuZtAnRm",
        "outputId": "76ab2340-5075-4b63-d188-ae866f6f1f38",
        "colab": {
          "base_uri": "https://localhost:8080/",
          "height": 491,
          "referenced_widgets": [
            "c97aecc82f0c4455ba9b6ca68dd05c58",
            "5b804ee6797543fd938fe3c064f90a66",
            "5ff9c55ef228422a85b80ea35cde0daa",
            "1243043f17924cd2bb3e8a2defe97833",
            "65b00515f48346ddac25af44c2e4c06b",
            "3ecc074b87ff4dc4a2814d8da8ae134d",
            "05c802713a6e4712b24d9a7893575b9f",
            "31516d500825430e99bac0b790a0839d",
            "8faa4ff021c74fbf91da85a368c5e966",
            "a3931e05a8944c1690c6420687f5a362",
            "d83fcb61f0584e469c2e15926752896b",
            "ee7cdc735ced4b62adfbc5a021c2ed49",
            "386fa9b774bd4cbe9a4f211e57fb8254",
            "afc1c0c50220491c9950fa5b45a7f899",
            "6d6ca3f661f047169b35601b91c90c85",
            "8e921bb640f44bcabce6f8ad703e9eb7",
            "c304fc7f3e2342549b5e894a13549f44",
            "515af502216f4770877d088cca3d4d6e",
            "34afd99c26304e48a0e98ac45ed70b75",
            "2327ecefe04540b2a3131fe7cb02f1b9",
            "aca2a0e13d114db7987107c9db1de9ad",
            "df7064a3a160412fb60987fa01b35e9b",
            "604e93195b3e4236b1018f91491ad388",
            "350347beb079446ebbd83c4e2a2e8be6",
            "73be35d72e17411ca075d1adc3780a42",
            "70a02c6958e5422ba52e45e6f4a83872",
            "0a087646a5494ceb98de8ab70f6c6d4e",
            "1d4bcb59deda47338941fa201ae075db",
            "dc77ce4a26614123bdd704e8e5c12509",
            "c27af923e12d4d7b86d99cbccdf7095d",
            "1bcdaae156ae4604b4b08320b4172f90",
            "683aa427e2e24fbc858ded3068036043",
            "50f488721b944883a1b46c5ed6af0cc6",
            "b5bceadbe928466486f6567747df57ab",
            "d9f9544440e14eee86e3b14c9e12e4d1",
            "618e4a2a43334030975337e28735214b",
            "175237f1268548118ebdf856dfc211a8",
            "88d266f36a114bf594dda8edb3967f58",
            "6a282f3732304c349868369d353f0e50",
            "fb8a86535120447494c4bd6a2e6fac6e"
          ]
        }
      },
      "source": [
        "try:\n",
        "    import google.colab\n",
        "    IN_COLAB = True\n",
        "except:\n",
        "    IN_COLAB = False\n",
        "\n",
        "if IN_COLAB:\n",
        "    ! wget https://raw.githubusercontent.com/hse-aml/natural-language-processing/master/setup_google_colab.py -O setup_google_colab.py\n",
        "    import setup_google_colab\n",
        "    setup_google_colab.setup_week3()\n",
        "    \n",
        "import sys\n",
        "sys.path.append(\"..\")\n",
        "from common.download_utils import download_week3_resources\n",
        "\n",
        "download_week3_resources()"
      ],
      "execution_count": 1,
      "outputs": [
        {
          "output_type": "stream",
          "text": [
            "--2021-05-02 21:38:39--  https://raw.githubusercontent.com/hse-aml/natural-language-processing/master/setup_google_colab.py\n",
            "Resolving raw.githubusercontent.com (raw.githubusercontent.com)... 185.199.108.133, 185.199.109.133, 185.199.110.133, ...\n",
            "Connecting to raw.githubusercontent.com (raw.githubusercontent.com)|185.199.108.133|:443... connected.\n",
            "HTTP request sent, awaiting response... 200 OK\n",
            "Length: 1939 (1.9K) [text/plain]\n",
            "Saving to: ‘setup_google_colab.py’\n",
            "\n",
            "setup_google_colab. 100%[===================>]   1.89K  --.-KB/s    in 0s      \n",
            "\n",
            "2021-05-02 21:38:40 (36.1 MB/s) - ‘setup_google_colab.py’ saved [1939/1939]\n",
            "\n"
          ],
          "name": "stdout"
        },
        {
          "output_type": "display_data",
          "data": {
            "application/vnd.jupyter.widget-view+json": {
              "model_id": "c97aecc82f0c4455ba9b6ca68dd05c58",
              "version_minor": 0,
              "version_major": 2
            },
            "text/plain": [
              "HBox(children=(FloatProgress(value=0.0, max=119127793.0), HTML(value='')))"
            ]
          },
          "metadata": {
            "tags": []
          }
        },
        {
          "output_type": "stream",
          "text": [
            "\n"
          ],
          "name": "stdout"
        },
        {
          "output_type": "display_data",
          "data": {
            "application/vnd.jupyter.widget-view+json": {
              "model_id": "8faa4ff021c74fbf91da85a368c5e966",
              "version_minor": 0,
              "version_major": 2
            },
            "text/plain": [
              "HBox(children=(FloatProgress(value=0.0, max=535543630.0), HTML(value='')))"
            ]
          },
          "metadata": {
            "tags": []
          }
        },
        {
          "output_type": "stream",
          "text": [
            "\n"
          ],
          "name": "stdout"
        },
        {
          "output_type": "display_data",
          "data": {
            "application/vnd.jupyter.widget-view+json": {
              "model_id": "c304fc7f3e2342549b5e894a13549f44",
              "version_minor": 0,
              "version_major": 2
            },
            "text/plain": [
              "HBox(children=(FloatProgress(value=0.0, max=46408910.0), HTML(value='')))"
            ]
          },
          "metadata": {
            "tags": []
          }
        },
        {
          "output_type": "stream",
          "text": [
            "\n"
          ],
          "name": "stdout"
        },
        {
          "output_type": "display_data",
          "data": {
            "application/vnd.jupyter.widget-view+json": {
              "model_id": "73be35d72e17411ca075d1adc3780a42",
              "version_minor": 0,
              "version_major": 2
            },
            "text/plain": [
              "HBox(children=(FloatProgress(value=0.0, max=5333.0), HTML(value='')))"
            ]
          },
          "metadata": {
            "tags": []
          }
        },
        {
          "output_type": "stream",
          "text": [
            "\n",
            "Downloading GoogleNews-vectors-negative300.bin.gz (1.5G) for you, it will take a while...\n"
          ],
          "name": "stdout"
        },
        {
          "output_type": "display_data",
          "data": {
            "application/vnd.jupyter.widget-view+json": {
              "model_id": "50f488721b944883a1b46c5ed6af0cc6",
              "version_minor": 0,
              "version_major": 2
            },
            "text/plain": [
              "HBox(children=(FloatProgress(value=0.0, max=1647046227.0), HTML(value='')))"
            ]
          },
          "metadata": {
            "tags": []
          }
        },
        {
          "output_type": "stream",
          "text": [
            "\n"
          ],
          "name": "stdout"
        }
      ]
    },
    {
      "cell_type": "markdown",
      "metadata": {
        "id": "N-DbvvC8AnRn"
      },
      "source": [
        "### Grading\n",
        "We will create a grader instace below and use it to collect your answers. Note that these outputs will be stored locally inside grader and will be uploaded to platform only after running submiting function in the last part of this assignment. If you want to make partial submission, you can run that cell any time you want."
      ]
    },
    {
      "cell_type": "code",
      "metadata": {
        "collapsed": true,
        "id": "FdCqXUMZAnRo"
      },
      "source": [
        "from grader import Grader"
      ],
      "execution_count": 2,
      "outputs": []
    },
    {
      "cell_type": "code",
      "metadata": {
        "collapsed": true,
        "id": "QqzgueSrAnRq"
      },
      "source": [
        "grader = Grader()"
      ],
      "execution_count": 3,
      "outputs": []
    },
    {
      "cell_type": "markdown",
      "metadata": {
        "id": "IFfsOUThAnRq"
      },
      "source": [
        "## Word embedding\n",
        "\n",
        "To solve the problem, you will use two different models of embeddings:\n",
        "\n",
        " - [Pre-trained word vectors](https://code.google.com/archive/p/word2vec/) from Google which were trained on a part of Google News dataset (about 100 billion words). The model contains 300-dimensional vectors for 3 million words and phrases. `GoogleNews-vectors-negative300.bin.gz` will be downloaded in `download_week3_resources()`.\n",
        " - Representations using StarSpace on StackOverflow data sample. You will need to train them from scratch."
      ]
    },
    {
      "cell_type": "markdown",
      "metadata": {
        "id": "3qQzd9-SAnRr"
      },
      "source": [
        "It's always easier to start with pre-trained embeddings. Unpack the pre-trained Goggle's vectors and upload them using the function [KeyedVectors.load_word2vec_format](https://radimrehurek.com/gensim/models/keyedvectors.html) from gensim library with the parameter *binary=True*. If the size of the embeddings is larger than the avaliable memory, you could load only a part of the embeddings by defining the parameter *limit* (recommended: 500000)."
      ]
    },
    {
      "cell_type": "code",
      "metadata": {
        "collapsed": true,
        "id": "NVBZVOZwAnRr"
      },
      "source": [
        "import gensim"
      ],
      "execution_count": 4,
      "outputs": []
    },
    {
      "cell_type": "code",
      "metadata": {
        "collapsed": true,
        "id": "ZPt08uSKAnRs"
      },
      "source": [
        "wv_embeddings = gensim.models.KeyedVectors.load_word2vec_format('GoogleNews-vectors-negative300.bin.gz', binary=True, limit=500000)\n",
        "######### YOUR CODE HERE #############"
      ],
      "execution_count": 6,
      "outputs": []
    },
    {
      "cell_type": "markdown",
      "metadata": {
        "id": "3Afqy4L0AnRu"
      },
      "source": [
        "### How to work with Google's word2vec embeddings?\n",
        "\n",
        "Once you have loaded the representations, make sure you can access them. First, you can check if the loaded embeddings contain a word:\n",
        "    \n",
        "    'word' in wv_embeddings\n",
        "    \n",
        "Second, to get the corresponding embedding you can use the square brackets:\n",
        "\n",
        "    wv_embeddings['word']\n",
        " \n",
        "### Checking that the embeddings are correct \n",
        " \n",
        "To prevent any errors during the first stage, we can check that the loaded embeddings are correct. You can call the function *check_embeddings*, implemented below, which runs 3 tests:\n",
        "1. Find the most similar word for provided \"positive\" and \"negative\" words.\n",
        "2. Find which word from the given list doesn’t go with the others.\n",
        "3. Find the most similar word for the provided one.\n",
        "\n",
        "In the right case the function will return the string *These embeddings look good*. Othervise, you need to validate the previous steps."
      ]
    },
    {
      "cell_type": "code",
      "metadata": {
        "collapsed": true,
        "id": "Zi2QRxzcAnRu"
      },
      "source": [
        "def check_embeddings(embeddings):\n",
        "    error_text = \"Something wrong with your embeddings ('%s test isn't correct).\"\n",
        "    most_similar = embeddings.most_similar(positive=['woman', 'king'], negative=['man'])\n",
        "    if len(most_similar) < 1 or most_similar[0][0] != 'queen':\n",
        "        return error_text % \"Most similar\"\n",
        "\n",
        "    doesnt_match = embeddings.doesnt_match(['breakfast', 'cereal', 'dinner', 'lunch'])\n",
        "    if doesnt_match != 'cereal':\n",
        "        return error_text % \"Doesn't match\"\n",
        "    \n",
        "    most_similar_to_given = embeddings.most_similar_to_given('music', ['water', 'sound', 'backpack', 'mouse'])\n",
        "    if most_similar_to_given != 'sound':\n",
        "        return error_text % \"Most similar to given\"\n",
        "    \n",
        "    return \"These embeddings look good.\""
      ],
      "execution_count": 7,
      "outputs": []
    },
    {
      "cell_type": "code",
      "metadata": {
        "collapsed": true,
        "id": "Qekn_VNEAnRu",
        "outputId": "3f676f99-a305-4172-d9f7-74c48743b8b3",
        "colab": {
          "base_uri": "https://localhost:8080/"
        }
      },
      "source": [
        "print(check_embeddings(wv_embeddings))"
      ],
      "execution_count": 8,
      "outputs": [
        {
          "output_type": "stream",
          "text": [
            "These embeddings look good.\n"
          ],
          "name": "stdout"
        },
        {
          "output_type": "stream",
          "text": [
            "/usr/local/lib/python3.7/dist-packages/gensim/models/keyedvectors.py:895: FutureWarning: arrays to stack must be passed as a \"sequence\" type such as list or tuple. Support for non-sequence iterables such as generators is deprecated as of NumPy 1.16 and will raise an error in the future.\n",
            "  vectors = vstack(self.word_vec(word, use_norm=True) for word in used_words).astype(REAL)\n"
          ],
          "name": "stderr"
        }
      ]
    },
    {
      "cell_type": "markdown",
      "metadata": {
        "id": "z4yWLwboAnRv"
      },
      "source": [
        "## From word to text embeddings\n",
        "\n",
        "**Task 1 (Question2Vec).** Usually, we have word-based embeddings, but for the task we need to create a representation for the whole question. It could be done in different ways. In our case we will use a **mean** of all word vectors in the question. Now you need to implement the function *question_to_vec*, which calculates the question representation described above. This function should work with the input text as is without any preprocessing.\n",
        "\n",
        "Note that there could be words without the corresponding embeddings. In this case, you can just skip these words and don't take them into account during calculating the result. If the question doesn't contain any known word with embedding, the function should return a zero vector."
      ]
    },
    {
      "cell_type": "code",
      "metadata": {
        "collapsed": true,
        "id": "m-edCj0YAnRv"
      },
      "source": [
        "import numpy as np"
      ],
      "execution_count": 9,
      "outputs": []
    },
    {
      "cell_type": "code",
      "metadata": {
        "collapsed": true,
        "id": "Klgl3xHmAnRv"
      },
      "source": [
        "def question_to_vec(question, embeddings, dim=300):\n",
        "    \"\"\"\n",
        "        question: a string\n",
        "        embeddings: dict where the key is a word and a value is its' embedding\n",
        "        dim: size of the representation\n",
        "\n",
        "        result: vector representation for the question\n",
        "    \"\"\"\n",
        "    ######################################\n",
        "    ######### YOUR CODE HERE #############\n",
        "    vec = np.zeros((dim,), dtype=np.float32)\n",
        "    count = 0\n",
        "    for word in question.split():\n",
        "      if word in embeddings:\n",
        "        vec += embeddings[word]\n",
        "        count += 1\n",
        "           \n",
        "    if count == 0:\n",
        "        return vec\n",
        "      \n",
        "    return vec/count\n",
        "    ######################################"
      ],
      "execution_count": 10,
      "outputs": []
    },
    {
      "cell_type": "markdown",
      "metadata": {
        "id": "mABvtAuUAnRw"
      },
      "source": [
        "To check the basic correctness of your implementation, run the function *question_to_vec_tests*."
      ]
    },
    {
      "cell_type": "code",
      "metadata": {
        "collapsed": true,
        "id": "-gC4aVv-AnRw"
      },
      "source": [
        "def question_to_vec_tests():\n",
        "    if (np.zeros(300) != question_to_vec('', wv_embeddings)).any():\n",
        "        return \"You need to return zero vector for empty question.\"\n",
        "    if (np.zeros(300) != question_to_vec('thereisnosuchword', wv_embeddings)).any():\n",
        "        return \"You need to return zero vector for the question, which consists only unknown words.\"\n",
        "    if (wv_embeddings['word'] != question_to_vec('word', wv_embeddings)).any():\n",
        "        return \"You need to check the corectness of your function.\"\n",
        "    if ((wv_embeddings['I'] + wv_embeddings['am']) / 2 != question_to_vec('I am', wv_embeddings)).any():\n",
        "        return \"Your function should calculate a mean of word vectors.\"\n",
        "    if (wv_embeddings['word'] != question_to_vec('thereisnosuchword word', wv_embeddings)).any():\n",
        "        return \"You should not consider words which embeddings are unknown.\"\n",
        "    return \"Basic tests are passed.\""
      ],
      "execution_count": 11,
      "outputs": []
    },
    {
      "cell_type": "code",
      "metadata": {
        "collapsed": true,
        "id": "bh7Ws7HwAnRw",
        "outputId": "fc0dc76d-43cf-4222-9ec7-89c4abff10aa",
        "colab": {
          "base_uri": "https://localhost:8080/"
        }
      },
      "source": [
        "print(question_to_vec_tests())"
      ],
      "execution_count": 12,
      "outputs": [
        {
          "output_type": "stream",
          "text": [
            "Basic tests are passed.\n"
          ],
          "name": "stdout"
        }
      ]
    },
    {
      "cell_type": "markdown",
      "metadata": {
        "id": "bvY1fYlZAnRx"
      },
      "source": [
        "You can submit embeddings for the questions from the file *test_embeddings.tsv* to earn the points. In this task you don't need to transform the text of a question somehow."
      ]
    },
    {
      "cell_type": "code",
      "metadata": {
        "collapsed": true,
        "id": "ao3CMF2fAnRx",
        "outputId": "ebfb453f-162e-4324-8468-e4176cdb2d28",
        "colab": {
          "base_uri": "https://localhost:8080/"
        }
      },
      "source": [
        "import nltk\n",
        "nltk.download('stopwords')\n",
        "from util import array_to_string"
      ],
      "execution_count": 13,
      "outputs": [
        {
          "output_type": "stream",
          "text": [
            "[nltk_data] Downloading package stopwords to /root/nltk_data...\n",
            "[nltk_data]   Unzipping corpora/stopwords.zip.\n"
          ],
          "name": "stdout"
        }
      ]
    },
    {
      "cell_type": "code",
      "metadata": {
        "collapsed": true,
        "id": "hHejW1zzAnRy",
        "outputId": "941f233f-5e50-4081-f0dc-88b6e503d998",
        "colab": {
          "base_uri": "https://localhost:8080/"
        }
      },
      "source": [
        "question2vec_result = []\n",
        "for question in open('data/test_embeddings.tsv'):\n",
        "    question = question.strip()\n",
        "    answer = question_to_vec(question, wv_embeddings)\n",
        "    question2vec_result = np.append(question2vec_result, answer)\n",
        "\n",
        "grader.submit_tag('Question2Vec', array_to_string(question2vec_result))"
      ],
      "execution_count": 14,
      "outputs": [
        {
          "output_type": "stream",
          "text": [
            "Current answer for task Question2Vec is: 0.01929389126598835\n",
            "-0.02872721292078495\n",
            "0.0460561104118824\n",
            "0.0852593332529068\n",
            "0.0243055559694767\n",
            "-0...\n"
          ],
          "name": "stdout"
        }
      ]
    },
    {
      "cell_type": "markdown",
      "metadata": {
        "id": "oft3YigiAnRy"
      },
      "source": [
        "Now we have a method to create a representation of any sentence and we are ready for the first evaluation. So, let's check how well our solution (Google's vectors + *question_to_vec*) will work.\n",
        "\n",
        "## Evaluation of text similarity\n",
        "\n",
        "We can imagine that if we use good embeddings, the cosine similarity between the duplicate sentences should be less than for the random ones. Overall, for each pair of duplicate sentences we can generate *R* random negative examples and find out the position of the correct duplicate.  \n",
        "\n",
        "For example, we have the question *\"Exceptions What really happens\"* and we are sure that another question *\"How does the catch keyword determine the type of exception that was thrown\"* is a duplicate. But our model doesn't know it and tries to find out the best option also among questions like *\"How Can I Make These Links Rotate in PHP\"*, *\"NSLog array description not memory address\"* and *\"PECL_HTTP not recognised php ubuntu\"*. The goal of the model is to rank all these 4 questions (1 *positive* and *R* = 3 *negative*) in the way that the correct one is in the first place.\n",
        "\n",
        "However, it is unnatural to count on that the best candidate will be always in the first place. So let us consider the place of the best candidate in the sorted list of candidates and formulate a metric based on it. We can fix some *K* — a reasonalble number of top-ranked elements and *N* — a number of queries (size of the sample).\n",
        "\n",
        "### Hits@K\n",
        "\n",
        "The first simple metric will be a number of correct hits for some *K*:\n",
        "$$ \\text{Hits@K} = \\frac{1}{N}\\sum_{i=1}^N \\, [dup_i \\in topK(q_i)]$$\n",
        "\n",
        "where $q_i$ is the i-th query, $dup_i$ is its duplicate, $topK(q_i)$ is the top K elements of the ranked sentences provided by our model and the operation $[dup_i \\in topK(q_i)]$ equals 1 if the condition is true and 0 otherwise (more details about this operation could be found [here](https://en.wikipedia.org/wiki/Iverson_bracket)).\n",
        "\n",
        "\n",
        "### DCG@K\n",
        "The second one is a simplified [DCG metric](https://en.wikipedia.org/wiki/Discounted_cumulative_gain):\n",
        "\n",
        "$$ \\text{DCG@K} = \\frac{1}{N} \\sum_{i=1}^N\\frac{1}{\\log_2(1+rank_{dup_i})}\\cdot[rank_{dup_i} \\le K] $$\n",
        "\n",
        "where $rank_{dup_i}$ is a position of the duplicate in the sorted list of the nearest sentences for the query $q_i$. According to this metric, the model gets a higher reward for a higher position of the correct answer. If the answer does not appear in topK at all, the reward is zero. "
      ]
    },
    {
      "cell_type": "markdown",
      "metadata": {
        "id": "-cuialQXAnRy"
      },
      "source": [
        "### Evaluation examples\n",
        "\n",
        "Let's calculate the described metrics for the toy example introduced above. In this case $N$ = 1 and the correct candidate for $q_1$ is *\"How does the catch keyword determine the type of exception that was thrown\"*. Consider the following ranking of the candidates:\n",
        "1. *\"How Can I Make These Links Rotate in PHP\"*\n",
        "2. *\"How does the catch keyword determine the type of exception that was thrown\"*\n",
        "3. *\"NSLog array description not memory address\"*\n",
        "4. *\"PECL_HTTP not recognised php ubuntu\"*\n",
        "\n",
        "Using the ranking above, calculate *Hits@K* metric for *K = 1, 2, 4*: \n",
        " \n",
        "- [K = 1] $\\text{Hits@1} = \\frac{1}{1}\\sum_{i=1}^1 \\, [dup_i \\in top1(q_i)] = [dup_1 \\in top1(q_1)] = 0$ because the correct answer doesn't appear in the *top1* list.\n",
        "- [K = 2] $\\text{Hits@2} = \\frac{1}{1}\\sum_{i=1}^1 \\, [dup_i \\in top2(q_i)] = [dup_1 \\in top2(q_1)] = 1$ because $rank_{dup_1} = 2$.\n",
        "- [K = 4] $\\text{Hits@4} = \\frac{1}{1}\\sum_{i=1}^1 \\, [dup_i \\in top4(q_i)] = [dup_1 \\in top4(q_1)] = 1$\n",
        "\n",
        "Using the ranking above, calculate *DCG@K* metric for *K = 1, 2, 4*:\n",
        "\n",
        "- [K = 1] $\\text{DCG@1} = \\frac{1}{1} \\sum_{i=1}^1\\frac{1}{\\log_2(1+rank_{dup_i})}\\cdot[rank_{dup_i} \\le 1] = \\frac{1}{\\log_2(1+rank_{dup_i})}\\cdot[rank_{dup_i} \\le 1] = 0$ because the correct answer doesn't appear in the top1 list.\n",
        "- [K = 2] $\\text{DCG@2} = \\frac{1}{1} \\sum_{i=1}^1\\frac{1}{\\log_2(1+rank_{dup_i})}\\cdot[rank_{dup_i} \\le 2] = \\frac{1}{\\log_2{3}}$, because $rank_{dup_1} = 2$.\n",
        "- [K = 4] $\\text{DCG@4} = \\frac{1}{1} \\sum_{i=1}^1\\frac{1}{\\log_2(1+rank_{dup_i})}\\cdot[rank_{dup_i} \\le 4] = \\frac{1}{\\log_2{3}}$.\n"
      ]
    },
    {
      "cell_type": "markdown",
      "metadata": {
        "id": "EEuorATjAnRy"
      },
      "source": [
        "**Tasks 2 and 3 (HitsCount and DCGScore).** Implement the functions *hits_count* and *dcg_score* as described above. Each function has two arguments: *dup_ranks* and *k*. *dup_ranks* is a list which contains *values of ranks* of duplicates. For example, *dup_ranks* is *[2]* for the example provided above."
      ]
    },
    {
      "cell_type": "code",
      "metadata": {
        "collapsed": true,
        "id": "9opVsTecAnRz"
      },
      "source": [
        "def hits_count(dup_ranks, k):\n",
        "    \"\"\"\n",
        "        dup_ranks: list of duplicates' ranks; one rank per question; \n",
        "                   length is a number of questions which we are looking for duplicates; \n",
        "                   rank is a number from 1 to len(candidates of the question); \n",
        "                   e.g. [2, 3] means that the first duplicate has the rank 2, the second one — 3.\n",
        "        k: number of top-ranked elements (k in Hits@k metric)\n",
        "\n",
        "        result: return Hits@k value for current ranking\n",
        "    \"\"\"\n",
        "    ######################################\n",
        "    ######### YOUR CODE HERE #############\n",
        "    return np.mean([1 if rank <= k else 0 for rank in dup_ranks])\n",
        "    ######################################"
      ],
      "execution_count": 15,
      "outputs": []
    },
    {
      "cell_type": "markdown",
      "metadata": {
        "id": "zOOGsL_8AnR0"
      },
      "source": [
        "Test your code on the tiny examples:"
      ]
    },
    {
      "cell_type": "code",
      "metadata": {
        "collapsed": true,
        "id": "xg1ZoBR3AnR0"
      },
      "source": [
        "def test_hits():\n",
        "    # *Evaluation example*\n",
        "    # answers — dup_i\n",
        "    answers = [\"How does the catch keyword determine the type of exception that was thrown\"]\n",
        "    \n",
        "    # candidates_ranking — the ranked sentences provided by our model\n",
        "    candidates_ranking = [[\"How Can I Make These Links Rotate in PHP\", \n",
        "                           \"How does the catch keyword determine the type of exception that was thrown\",\n",
        "                           \"NSLog array description not memory address\",\n",
        "                           \"PECL_HTTP not recognised php ubuntu\"]]\n",
        "    # dup_ranks — position of the dup_i in the list of ranks +1\n",
        "    dup_ranks = [candidates_ranking[i].index(answers[i]) + 1 for i in range(len(answers))]\n",
        "    \n",
        "    # correct_answers — the expected values of the result for each k from 1 to 4\n",
        "    correct_answers = [0, 1, 1, 1]\n",
        "    for k, correct in enumerate(correct_answers, 1):\n",
        "        if not np.isclose(hits_count(dup_ranks, k), correct):\n",
        "            return \"Check the function.\"\n",
        "    \n",
        "    # Other tests\n",
        "    answers = [\"How does the catch keyword determine the type of exception that was thrown\", \n",
        "               \"Convert Google results object (pure js) to Python object\"]\n",
        "    \n",
        "    # The first test: both duplicates on the first position in ranked list\n",
        "    candidates_ranking = [[\"How does the catch keyword determine the type of exception that was thrown\",\n",
        "                           \"How Can I Make These Links Rotate in PHP\"], \n",
        "                          [\"Convert Google results object (pure js) to Python object\",\n",
        "                           \"WPF- How to update the changes in list item of a list\"]]\n",
        "    dup_ranks = [candidates_ranking[i].index(answers[i]) + 1 for i in range(len(answers))]\n",
        "    correct_answers = [1, 1]\n",
        "    for k, correct in enumerate(correct_answers, 1):\n",
        "        if not np.isclose(hits_count(dup_ranks, k), correct):\n",
        "            return \"Check the function (test: both duplicates on the first position in ranked list).\"\n",
        "        \n",
        "    # The second test: one candidate on the first position, another — on the second\n",
        "    candidates_ranking = [[\"How Can I Make These Links Rotate in PHP\", \n",
        "                           \"How does the catch keyword determine the type of exception that was thrown\"], \n",
        "                          [\"Convert Google results object (pure js) to Python object\",\n",
        "                           \"WPF- How to update the changes in list item of a list\"]]\n",
        "    dup_ranks = [candidates_ranking[i].index(answers[i]) + 1 for i in range(len(answers))]\n",
        "    correct_answers = [0.5, 1]\n",
        "    for k, correct in enumerate(correct_answers, 1):\n",
        "        if not np.isclose(hits_count(dup_ranks, k), correct):\n",
        "            return \"Check the function (test: one candidate on the first position, another — on the second).\"\n",
        "\n",
        "    # The third test: both candidates on the second position\n",
        "    candidates_ranking = [[\"How Can I Make These Links Rotate in PHP\", \n",
        "                           \"How does the catch keyword determine the type of exception that was thrown\"], \n",
        "                          [\"WPF- How to update the changes in list item of a list\",\n",
        "                           \"Convert Google results object (pure js) to Python object\"]]\n",
        "    dup_ranks = [candidates_ranking[i].index(answers[i]) + 1 for i in range(len(answers))]\n",
        "    correct_answers = [0, 1]\n",
        "    for k, correct in enumerate(correct_answers, 1):\n",
        "        if not np.isclose(hits_count(dup_ranks, k), correct):\n",
        "            return \"Check the function (test: both candidates on the second position).\"\n",
        "\n",
        "    return \"Basic test are passed.\""
      ],
      "execution_count": 16,
      "outputs": []
    },
    {
      "cell_type": "code",
      "metadata": {
        "collapsed": true,
        "id": "yhzeS0lSAnR0",
        "outputId": "8cf40fcc-6dca-424c-ab89-170dd8a1e171",
        "colab": {
          "base_uri": "https://localhost:8080/"
        }
      },
      "source": [
        "print(test_hits())"
      ],
      "execution_count": 17,
      "outputs": [
        {
          "output_type": "stream",
          "text": [
            "Basic test are passed.\n"
          ],
          "name": "stdout"
        }
      ]
    },
    {
      "cell_type": "code",
      "metadata": {
        "collapsed": true,
        "id": "bfhtxSGlAnR1"
      },
      "source": [
        "def dcg_score(dup_ranks, k):\n",
        "    \"\"\"\n",
        "        dup_ranks: list of duplicates' ranks; one rank per question; \n",
        "                   length is a number of questions which we are looking for duplicates; \n",
        "                   rank is a number from 1 to len(candidates of the question); \n",
        "                   e.g. [2, 3] means that the first duplicate has the rank 2, the second one — 3.\n",
        "        k: number of top-ranked elements (k in DCG@k metric)\n",
        "\n",
        "        result: return DCG@k value for current ranking\n",
        "    \"\"\"\n",
        "    ######################################\n",
        "    ######### YOUR CODE HERE #############\n",
        "    score = np.array([1 if rank <= k else 0 for rank in dup_ranks])\n",
        "    return np.mean(score/(np.log2(1+np.array(dup_ranks))))\n",
        "    ######################################"
      ],
      "execution_count": 18,
      "outputs": []
    },
    {
      "cell_type": "code",
      "metadata": {
        "collapsed": true,
        "id": "PGiXszTdAnR1"
      },
      "source": [
        "def test_dcg():\n",
        "    # *Evaluation example*\n",
        "    # answers — dup_i\n",
        "    answers = [\"How does the catch keyword determine the type of exception that was thrown\"]\n",
        "    \n",
        "    # candidates_ranking — the ranked sentences provided by our model\n",
        "    candidates_ranking = [[\"How Can I Make These Links Rotate in PHP\", \n",
        "                           \"How does the catch keyword determine the type of exception that was thrown\",\n",
        "                           \"NSLog array description not memory address\",\n",
        "                           \"PECL_HTTP not recognised php ubuntu\"]]\n",
        "    # dup_ranks — position of the dup_i in the list of ranks +1\n",
        "    dup_ranks = [candidates_ranking[i].index(answers[i]) + 1 for i in range(len(answers))]\n",
        "    \n",
        "    # correct_answers — the expected values of the result for each k from 1 to 4\n",
        "    correct_answers = [0, 1 / (np.log2(3)), 1 / (np.log2(3)), 1 / (np.log2(3))]\n",
        "    for k, correct in enumerate(correct_answers, 1):\n",
        "        if not np.isclose(dcg_score(dup_ranks, k), correct):\n",
        "            return \"Check the function.\"\n",
        "    \n",
        "    # Other tests\n",
        "    answers = [\"How does the catch keyword determine the type of exception that was thrown\", \n",
        "               \"Convert Google results object (pure js) to Python object\"]\n",
        "\n",
        "    # The first test: both duplicates on the first position in ranked list\n",
        "    candidates_ranking = [[\"How does the catch keyword determine the type of exception that was thrown\",\n",
        "                           \"How Can I Make These Links Rotate in PHP\"], \n",
        "                          [\"Convert Google results object (pure js) to Python object\",\n",
        "                           \"WPF- How to update the changes in list item of a list\"]]\n",
        "    dup_ranks = [candidates_ranking[i].index(answers[i]) + 1 for i in range(len(answers))]\n",
        "    correct_answers = [1, 1]\n",
        "    for k, correct in enumerate(correct_answers, 1):\n",
        "        if not np.isclose(dcg_score(dup_ranks, k), correct):\n",
        "            return \"Check the function (test: both duplicates on the first position in ranked list).\"\n",
        "        \n",
        "    # The second test: one candidate on the first position, another — on the second\n",
        "    candidates_ranking = [[\"How Can I Make These Links Rotate in PHP\", \n",
        "                           \"How does the catch keyword determine the type of exception that was thrown\"], \n",
        "                          [\"Convert Google results object (pure js) to Python object\",\n",
        "                           \"WPF- How to update the changes in list item of a list\"]]\n",
        "    dup_ranks = [candidates_ranking[i].index(answers[i]) + 1 for i in range(len(answers))]\n",
        "    correct_answers = [0.5, (1 + (1 / (np.log2(3)))) / 2]\n",
        "    for k, correct in enumerate(correct_answers, 1):\n",
        "        if not np.isclose(dcg_score(dup_ranks, k), correct):\n",
        "            return \"Check the function (test: one candidate on the first position, another — on the second).\"\n",
        "        \n",
        "    # The third test: both candidates on the second position\n",
        "    candidates_ranking = [[\"How Can I Make These Links Rotate in PHP\",\n",
        "                           \"How does the catch keyword determine the type of exception that was thrown\"], \n",
        "                          [\"WPF- How to update the changes in list item of a list\",\n",
        "                           \"Convert Google results object (pure js) to Python object\"]]\n",
        "    dup_ranks = [candidates_ranking[i].index(answers[i]) + 1 for i in range(len(answers))]\n",
        "    correct_answers = [0, 1 / (np.log2(3))]\n",
        "    for k, correct in enumerate(correct_answers, 1):\n",
        "        if not np.isclose(dcg_score(dup_ranks, k), correct):\n",
        "            return \"Check the function (test: both candidates on the second position).\"\n",
        "\n",
        "    return \"Basic test are passed.\""
      ],
      "execution_count": 19,
      "outputs": []
    },
    {
      "cell_type": "code",
      "metadata": {
        "collapsed": true,
        "id": "fHo7HyGwAnR1",
        "outputId": "1c597673-c3f8-426b-c793-07cedd286363",
        "colab": {
          "base_uri": "https://localhost:8080/"
        }
      },
      "source": [
        "print(test_dcg())"
      ],
      "execution_count": 20,
      "outputs": [
        {
          "output_type": "stream",
          "text": [
            "Basic test are passed.\n"
          ],
          "name": "stdout"
        }
      ]
    },
    {
      "cell_type": "markdown",
      "metadata": {
        "id": "bwIHm8h5AnR1"
      },
      "source": [
        "Submit results of the functions *hits_count* and *dcg_score* for the following examples to earn the points."
      ]
    },
    {
      "cell_type": "code",
      "metadata": {
        "collapsed": true,
        "id": "V5J39IvNAnR2"
      },
      "source": [
        "test_examples = [\n",
        "    [1],\n",
        "    [1, 2],\n",
        "    [2, 1],\n",
        "    [1, 2, 3],\n",
        "    [1, 2, 3, 4, 5, 6, 7, 8, 9, 10],\n",
        "    [9, 5, 4, 2, 8, 10, 7, 6, 1, 3],\n",
        "    [4, 3, 5, 1, 9, 10, 7, 8, 2, 6],\n",
        "    [5, 1, 7, 6, 2, 3, 8, 9, 10, 4],\n",
        "    [6, 3, 1, 4, 7, 2, 9, 8, 10, 5],\n",
        "    [10, 9, 8, 7, 6, 5, 4, 3, 2, 1],\n",
        "]"
      ],
      "execution_count": 21,
      "outputs": []
    },
    {
      "cell_type": "code",
      "metadata": {
        "collapsed": true,
        "id": "oe2-MBVUAnR2",
        "outputId": "e81cbe47-ace9-4942-eb51-f74d27feadaf",
        "colab": {
          "base_uri": "https://localhost:8080/"
        }
      },
      "source": [
        "hits_results = []\n",
        "for example in test_examples:\n",
        "    for k in range(len(example)):\n",
        "        hits_results.append(hits_count(example, k + 1))\n",
        "grader.submit_tag('HitsCount', array_to_string(hits_results))"
      ],
      "execution_count": 22,
      "outputs": [
        {
          "output_type": "stream",
          "text": [
            "Current answer for task HitsCount is: 1.0\n",
            "0.5\n",
            "1.0\n",
            "0.5\n",
            "1.0\n",
            "0.3333333333333333\n",
            "0.6666666666666666\n",
            "1.0\n",
            "0.1\n",
            "0.2\n",
            "0.3\n",
            "0.4\n",
            "0.5\n",
            "0.6\n",
            "0.7\n",
            "0.8\n",
            "0.9\n",
            "1....\n"
          ],
          "name": "stdout"
        }
      ]
    },
    {
      "cell_type": "code",
      "metadata": {
        "collapsed": true,
        "id": "na8cXmNSAnR2",
        "outputId": "44a9ce16-c9c0-4f4e-f99c-20b0466684ea",
        "colab": {
          "base_uri": "https://localhost:8080/"
        }
      },
      "source": [
        "dcg_results = []\n",
        "for example in test_examples:\n",
        "    for k in range(len(example)):\n",
        "        dcg_results.append(dcg_score(example, k + 1))\n",
        "grader.submit_tag('DCGScore', array_to_string(dcg_results))"
      ],
      "execution_count": 23,
      "outputs": [
        {
          "output_type": "stream",
          "text": [
            "Current answer for task DCGScore is: 1.0\n",
            "0.5\n",
            "0.8154648767857288\n",
            "0.5\n",
            "0.8154648767857288\n",
            "0.3333333333333333\n",
            "0.5436432511904858\n",
            "0.7103099178...\n"
          ],
          "name": "stdout"
        }
      ]
    },
    {
      "cell_type": "markdown",
      "metadata": {
        "id": "VctHYXaXAnR3"
      },
      "source": [
        "##  First solution: pre-trained embeddings"
      ]
    },
    {
      "cell_type": "markdown",
      "metadata": {
        "id": "8HIxuCKcAnR3"
      },
      "source": [
        "We will work with predefined train, validation and test corpora. All the files are tab-separated, but have a different format:\n",
        " - *train* corpus contains similar sentences at the same row.\n",
        " - *validation* corpus contains the following columns: *question*, *similar question*, *negative example 1*, *negative example 2*, ... \n",
        " - *test* corpus contains the following columns: *question*, *example 1*, *example 2*, ...\n",
        "\n",
        "Validation corpus will be used for the intermediate validation of models. The test data will be necessary for submitting the quality of your model in the system."
      ]
    },
    {
      "cell_type": "markdown",
      "metadata": {
        "id": "jYW7wPfiAnR3"
      },
      "source": [
        "Now you should read *validation* corpus, located at `data/validation.tsv`. You will use it later to evaluate current solution."
      ]
    },
    {
      "cell_type": "code",
      "metadata": {
        "collapsed": true,
        "id": "vMtKdaFhAnR3"
      },
      "source": [
        "def read_corpus(filename):\n",
        "    data = []\n",
        "    for line in open(filename, encoding='utf-8'):\n",
        "        data.append(line.strip().split('\\t'))\n",
        "    return data"
      ],
      "execution_count": 24,
      "outputs": []
    },
    {
      "cell_type": "code",
      "metadata": {
        "collapsed": true,
        "id": "6BCJ6civAnR4"
      },
      "source": [
        "validation = read_corpus('data/validation.tsv')######### YOUR CODE HERE #############"
      ],
      "execution_count": 25,
      "outputs": []
    },
    {
      "cell_type": "code",
      "metadata": {
        "collapsed": true,
        "id": "_vKx_FanAnR4"
      },
      "source": [
        "from sklearn.metrics.pairwise import cosine_similarity"
      ],
      "execution_count": 26,
      "outputs": []
    },
    {
      "cell_type": "markdown",
      "metadata": {
        "id": "gWFgLTbwAnR5"
      },
      "source": [
        "We will use cosine distance to rank candidate questions which you need to implement in the function *rank_candidates*. The function should return a sorted list of pairs *(initial position in candidates list, candidate)*. Index of some pair corresponds to its rank (the first is the best). For example, if the list of candidates was *[a, b, c]* and the most similar is *c*, then *a* and *b*, the function should return a list *[(2, c), (0, a), (1, b)]*.\n",
        "\n",
        "Pay attention, if you use the function *cosine_similarity* from *sklearn.metrics.pairwise* to calculate similarity because it works in a different way: most similar objects has greatest similarity. It's preferable to use a vectorized version of *cosine_similarity* function. Try to compute similarity at once and not use list comprehension. It should speed up your computations significantly."
      ]
    },
    {
      "cell_type": "code",
      "metadata": {
        "collapsed": true,
        "id": "nJTg9hrgAnR5"
      },
      "source": [
        "def rank_candidates(question, candidates, embeddings, dim=300):\n",
        "    \"\"\"\n",
        "        question: a string\n",
        "        candidates: a list of strings (candidates) which we want to rank\n",
        "        embeddings: some embeddings\n",
        "        dim: dimension of the current embeddings\n",
        "        \n",
        "        result: a list of pairs (initial position in the list, question)\n",
        "    \"\"\"\n",
        "    \n",
        "    ######################################\n",
        "    ######### YOUR CODE HERE #############\n",
        "    emb_question = np.array([question_to_vec(question, embeddings, dim) for i in range(len(candidates))])\n",
        "    emb_candidates = np.array([question_to_vec(candidate, embeddings, dim) for candidate in candidates])\n",
        "    scores = np.array(cosine_similarity(emb_question, emb_candidates)[0])\n",
        "    list_unsorted = list(zip(scores, range(len(candidates)), candidates))\n",
        "    pairs_sorted  = sorted(list_unsorted, key=lambda x: x[0], reverse=True)\n",
        "    return [(pos,cand) for _,pos,cand in pairs_sorted]\n",
        "    ######################################"
      ],
      "execution_count": 27,
      "outputs": []
    },
    {
      "cell_type": "markdown",
      "metadata": {
        "id": "FL_AmdNyAnR5"
      },
      "source": [
        "Test your code on the tiny examples:"
      ]
    },
    {
      "cell_type": "code",
      "metadata": {
        "collapsed": true,
        "id": "AAzLKOWcAnR5"
      },
      "source": [
        "def test_rank_candidates():\n",
        "    questions = ['converting string to list', 'Sending array via Ajax fails']\n",
        "    candidates = [['Convert Google results object (pure js) to Python object', \n",
        "                   'C# create cookie from string and send it',\n",
        "                   'How to use jQuery AJAX for an outside domain?'], \n",
        "                  ['Getting all list items of an unordered list in PHP', \n",
        "                   'WPF- How to update the changes in list item of a list', \n",
        "                   'select2 not displaying search results']]\n",
        "    results = [[(1, 'C# create cookie from string and send it'), \n",
        "                (0, 'Convert Google results object (pure js) to Python object'), \n",
        "                (2, 'How to use jQuery AJAX for an outside domain?')],\n",
        "               [(0, 'Getting all list items of an unordered list in PHP'), \n",
        "                (2, 'select2 not displaying search results'), \n",
        "                (1, 'WPF- How to update the changes in list item of a list')]]\n",
        "    for question, q_candidates, result in zip(questions, candidates, results):\n",
        "        ranks = rank_candidates(question, q_candidates, wv_embeddings, 300)\n",
        "        if not np.all(ranks == result):\n",
        "            return \"Check the function.\"\n",
        "    return \"Basic tests are passed.\""
      ],
      "execution_count": 28,
      "outputs": []
    },
    {
      "cell_type": "code",
      "metadata": {
        "collapsed": true,
        "id": "nMQh_vQ4AnR5",
        "outputId": "e478a70a-ce2f-45f3-ba72-f25412b9d389",
        "colab": {
          "base_uri": "https://localhost:8080/"
        }
      },
      "source": [
        "print(test_rank_candidates())"
      ],
      "execution_count": 29,
      "outputs": [
        {
          "output_type": "stream",
          "text": [
            "Basic tests are passed.\n"
          ],
          "name": "stdout"
        }
      ]
    },
    {
      "cell_type": "markdown",
      "metadata": {
        "id": "G3xlhx1sAnR6"
      },
      "source": [
        "Now we can test the quality of the current approach. Run the next two cells to get the results. Pay attention that calculation of similarity between vectors takes time and this calculation is computed approximately in 10 minutes."
      ]
    },
    {
      "cell_type": "code",
      "metadata": {
        "collapsed": true,
        "id": "EeFG5Y0bAnR6"
      },
      "source": [
        "wv_ranking = []\n",
        "for line in validation:\n",
        "    q, *ex = line\n",
        "    ranks = rank_candidates(q, ex, wv_embeddings)\n",
        "    wv_ranking.append([r[0] for r in ranks].index(0) + 1)"
      ],
      "execution_count": 30,
      "outputs": []
    },
    {
      "cell_type": "code",
      "metadata": {
        "collapsed": true,
        "id": "OLqKPhCwAnR7",
        "outputId": "627ca9e3-9b32-4227-b691-b6ed2ffbfd51",
        "colab": {
          "base_uri": "https://localhost:8080/"
        }
      },
      "source": [
        "for k in [1, 5, 10, 100, 500, 1000]:\n",
        "    print(\"DCG@%4d: %.3f | Hits@%4d: %.3f\" % (k, dcg_score(wv_ranking, k), k, hits_count(wv_ranking, k)))"
      ],
      "execution_count": 31,
      "outputs": [
        {
          "output_type": "stream",
          "text": [
            "DCG@   1: 0.210 | Hits@   1: 0.210\n",
            "DCG@   5: 0.266 | Hits@   5: 0.315\n",
            "DCG@  10: 0.281 | Hits@  10: 0.363\n",
            "DCG@ 100: 0.319 | Hits@ 100: 0.552\n",
            "DCG@ 500: 0.352 | Hits@ 500: 0.811\n",
            "DCG@1000: 0.372 | Hits@1000: 1.000\n"
          ],
          "name": "stdout"
        }
      ]
    },
    {
      "cell_type": "markdown",
      "metadata": {
        "id": "EXRzpP2CAnR7"
      },
      "source": [
        "If you did all the steps correctly, you should be frustrated by the received results. Let's try to understand why the quality is so low. First of all, when you work with some data it is necessary to have an idea how the data looks like. Print several questions from the data:"
      ]
    },
    {
      "cell_type": "code",
      "metadata": {
        "collapsed": true,
        "id": "5FANfkNEAnR7",
        "outputId": "a856591b-93bf-477c-8d9e-5c4dd146342a",
        "colab": {
          "base_uri": "https://localhost:8080/"
        }
      },
      "source": [
        "for line in validation[:3]:\n",
        "    q, *examples = line\n",
        "    print(q, *examples[:3])"
      ],
      "execution_count": 32,
      "outputs": [
        {
          "output_type": "stream",
          "text": [
            "How to print a binary heap tree without recursion? How do you best convert a recursive function to an iterative one? How can i use ng-model with directive in angular js flash: drawing and erasing\n",
            "How to start PhoneStateListener programmatically? PhoneStateListener and service Java cast object[] to model WCF and What does this mean?\n",
            "jQuery: Show a div2 when mousenter over div1 is over when hover on div1 depenting on if it is on div2 or not it should act differently How to run selenium in google app engine/cloud? Python Comparing two lists of strings for similarities\n"
          ],
          "name": "stdout"
        }
      ]
    },
    {
      "cell_type": "markdown",
      "metadata": {
        "id": "TTVehcUfAnR8"
      },
      "source": [
        "As you can see, we deal with the raw data. It means that we have many punctuation marks, special characters and unlowercased letters. In our case, it could lead to the situation where we can't find some embeddings, e.g. for the word \"grid?\". \n",
        "\n",
        "To solve this problem you should use the functions *text_prepare* from the previous assignments to prepare the data."
      ]
    },
    {
      "cell_type": "code",
      "metadata": {
        "collapsed": true,
        "id": "_kVmSiUuAnR8"
      },
      "source": [
        "from util import text_prepare"
      ],
      "execution_count": 33,
      "outputs": []
    },
    {
      "cell_type": "markdown",
      "metadata": {
        "id": "sUE08IynAnR9"
      },
      "source": [
        "Now transform all the questions from the validation set:"
      ]
    },
    {
      "cell_type": "code",
      "metadata": {
        "collapsed": true,
        "id": "DKl_wHPSAnR9"
      },
      "source": [
        "prepared_validation = []\n",
        "for line in validation:\n",
        "  ######### YOUR CODE HERE #############\n",
        "  prepared_validation.append([text_prepare(q) for q in line]) "
      ],
      "execution_count": 34,
      "outputs": []
    },
    {
      "cell_type": "markdown",
      "metadata": {
        "id": "pXNdiFsUAnR9"
      },
      "source": [
        "Let's evaluate the approach again after the preparation:"
      ]
    },
    {
      "cell_type": "code",
      "metadata": {
        "collapsed": true,
        "id": "rtZfwhOrAnR9"
      },
      "source": [
        "wv_prepared_ranking = []\n",
        "for line in prepared_validation:\n",
        "    q, *ex = line\n",
        "    ranks = rank_candidates(q, ex, wv_embeddings)\n",
        "    wv_prepared_ranking.append([r[0] for r in ranks].index(0) + 1)"
      ],
      "execution_count": 35,
      "outputs": []
    },
    {
      "cell_type": "code",
      "metadata": {
        "collapsed": true,
        "id": "Kb_k1LURAnR9",
        "outputId": "735461d6-cb05-4f68-ee35-584ddb84e54b",
        "colab": {
          "base_uri": "https://localhost:8080/"
        }
      },
      "source": [
        "for k in [1, 5, 10, 100, 500, 1000]:\n",
        "    print(\"DCG@%4d: %.3f | Hits@%4d: %.3f\" % (k, dcg_score(wv_prepared_ranking, k), \n",
        "                                              k, hits_count(wv_prepared_ranking, k)))"
      ],
      "execution_count": 36,
      "outputs": [
        {
          "output_type": "stream",
          "text": [
            "DCG@   1: 0.305 | Hits@   1: 0.305\n",
            "DCG@   5: 0.378 | Hits@   5: 0.443\n",
            "DCG@  10: 0.395 | Hits@  10: 0.494\n",
            "DCG@ 100: 0.429 | Hits@ 100: 0.661\n",
            "DCG@ 500: 0.451 | Hits@ 500: 0.835\n",
            "DCG@1000: 0.468 | Hits@1000: 1.000\n"
          ],
          "name": "stdout"
        }
      ]
    },
    {
      "cell_type": "markdown",
      "metadata": {
        "id": "OZLNTCUSAnR-"
      },
      "source": [
        "Now, prepare also train and test data, because you will need it in the future:"
      ]
    },
    {
      "cell_type": "code",
      "metadata": {
        "collapsed": true,
        "id": "SxglXs0xAnR-"
      },
      "source": [
        "def prepare_file(in_, out_):\n",
        "    out = open(out_, 'w')\n",
        "    for line in open(in_, encoding='utf8'):\n",
        "        line = line.strip().split('\\t')\n",
        "        new_line = [text_prepare(q) for q in line]\n",
        "        print(*new_line, sep='\\t', file=out)\n",
        "    out.close()"
      ],
      "execution_count": 37,
      "outputs": []
    },
    {
      "cell_type": "code",
      "metadata": {
        "collapsed": true,
        "id": "Fa4VRNpTAnR-"
      },
      "source": [
        "######################################\n",
        "######### YOUR CODE HERE #############\n",
        "prepare_file('data/train.tsv', 'data/train_prepared.tsv')\n",
        "prepare_file('data/test.tsv', 'data/test_prepared.tsv')\n",
        "######################################"
      ],
      "execution_count": 38,
      "outputs": []
    },
    {
      "cell_type": "markdown",
      "metadata": {
        "id": "Q_gQNGBsAnR_"
      },
      "source": [
        "**Task 4 (W2VTokenizedRanks).** For each question from prepared *test.tsv* submit the ranks of the candidates to earn the points. The calculations should take about 3-5 minutes. Pay attention that the function *rank_candidates* returns a ranking, while in this case you should find a position in this ranking. Ranks should start with 1."
      ]
    },
    {
      "cell_type": "code",
      "metadata": {
        "collapsed": true,
        "id": "RwqBhE3mAnR_"
      },
      "source": [
        "from util import matrix_to_string"
      ],
      "execution_count": 39,
      "outputs": []
    },
    {
      "cell_type": "code",
      "metadata": {
        "collapsed": true,
        "id": "GpIYvUdvAnSA",
        "outputId": "bf407a62-0ebe-4097-8386-fcd136fd3aa8",
        "colab": {
          "base_uri": "https://localhost:8080/"
        }
      },
      "source": [
        "w2v_ranks_results = []\n",
        "prepared_test_data = 'data/test_prepared.tsv' ######### YOUR CODE HERE #############\n",
        "for line in open(prepared_test_data):\n",
        "    q, *ex = line.strip().split('\\t')\n",
        "    ranks = rank_candidates(q, ex, wv_embeddings, 300)\n",
        "    ranked_candidates = [r[0] for r in ranks]\n",
        "    w2v_ranks_results.append([ranked_candidates.index(i) + 1 for i in range(len(ranked_candidates))])\n",
        "    \n",
        "grader.submit_tag('W2VTokenizedRanks', matrix_to_string(w2v_ranks_results))"
      ],
      "execution_count": 40,
      "outputs": [
        {
          "output_type": "stream",
          "text": [
            "Current answer for task W2VTokenizedRanks is: 95\t94\t7\t9\t64\t36\t31\t93\t23\t100\t99\t20\t60\t6\t97\t48\t70\t37\t41\t96\t29\t56\t2\t65\t68\t44\t27\t25\t57\t62\t11\t87\t50\t66\t7...\n"
          ],
          "name": "stdout"
        }
      ]
    },
    {
      "cell_type": "markdown",
      "metadata": {
        "id": "73OzHQPTAnSA"
      },
      "source": [
        "## Advanced text embeddings\n",
        "\n",
        "There are many different models that can be used to train embeddings. You have already used word2vec embeddings. The more recent approaches include FastText, StarSpace, ELMo, BERT, and others.\n",
        "\n",
        "This article [“The Illustrated BERT, ELMo, and co. (How NLP Cracked Transfer Learning)”](http://jalammar.github.io/illustrated-bert/), walks you through some of them, namely:\n",
        "\n",
        "* ELMo \\[[paper](https://arxiv.org/abs/1802.05365)\\] (Embeddings from Language Models). These embeddings are learned functions of the internal states of a deep bidirectional language model (biLM), which is pre-trained on a large text corpus. It gives deep contextualized word representations that model both complex characteristics of word use (e.g., syntax and semantics), and how these uses vary across linguistic contexts (i.e., to model polysemy). [Here](https://tfhub.dev/google/elmo/1) is a good tutorial on how to use ELMo embeddings with TF Hub.\n",
        "\n",
        "* BERT \\[[paper](https://arxiv.org/abs/1810.04805)\\] (Bidirectional Encoder Representations from Transformers). These embeddings are based on the Transformer architecture, which [has been introduced in 2017](https://arxiv.org/abs/1706.03762) and since then become the leading model both in NLP and other areas. You can also read about Transformers [in this blogpost](http://jalammar.github.io/illustrated-transformer/). Pretrained BERT embeddings can be found in [the official repository of Google-Research](https://github.com/google-research/bert). Training BERT embeddings from scratch is computationally expensive, so people usually use / fine-tune the existing general purpose embeddings.\n",
        "\n",
        "In this assignment, we will pick the StarSpace model to play with, because it’s better suited to the duplicate detection task and can be trained with moderate resources. Please follow the notebook - the training pipeline is provided below. Once you have obtained the embeddings, please keep them for the final project of the course - you will need them again. \n",
        "\n",
        "\n",
        "### StarSpace\n",
        "\n",
        "[StarSpace](https://github.com/facebookresearch/StarSpace) is an algorithm proposed by Facebook. It is a general-purpose neural model for efficient learning of entity embeddings for solving a wide variety of problems.\n",
        "\n",
        "Unfortunately, StarSpace cannot be run on Windows and we recommend to use provided\n",
        "[docker container](https://github.com/hse-aml/natural-language-processing/blob/master/Docker-tutorial.md) or other alternatives. Don't delete results of this task because you will need it in the final project.\n",
        "\n",
        "### How it works and what's the main difference with word2vec?\n",
        "The main point in this section is that StarSpace can be trained specifically for some tasks. In contrast to word2vec model, which tries to train similar embeddings for words in similar contexts, StarSpace uses embeddings for the whole sentence (just as a sum of embeddings of words and phrases). Despite the fact that in both cases we get word embeddings as a result of the training, StarSpace embeddings are trained using some supervised data, e.g. a set of similar sentence pairs, and thus they can better suit the task.\n",
        "\n",
        "In our case, StarSpace should use two types of sentence pairs for training: \"positive\" and \"negative\". \"Positive\" examples are extracted from the train sample (duplicates, high similarity) and the \"negative\" examples are generated randomly (low similarity assumed). \n",
        "\n",
        "### How to choose the best params for the model?\n",
        "Normally, you would start with some default choice and then run extensive experiments to compare different strategies. However, we have some recommendations ready for you to save your time:\n",
        "- Be careful with choosing the suitable training mode. In this task we want to explore texts similarity which corresponds to *trainMode = 3*.\n",
        "- Use adagrad optimization (parameter *adagrad = true*).\n",
        "- Set the length of phrase equal to 1 (parameter *ngrams*), because we need embeddings only for words.\n",
        "- Don't use a large number of *epochs* (we think that 5 should be enough).\n",
        "- Try dimension *dim* equal to 100.\n",
        "- To compare embeddings usually *cosine* *similarity* is used.\n",
        "- Set *minCount* greater than 1 (for example, 2) if you don't want to get embeddings for extremely rare words.\n",
        "- Parameter *verbose = true* could show you the progress of the training process.\n",
        "- Set parameter *fileFormat* equals *labelDoc*.\n",
        "- Parameter *negSearchLimit* is responsible for a number of negative examples which is used during the training. We think that 10 will be enought for this task.\n",
        "- To increase a speed of training we recommend to set *learning rate* to 0.05."
      ]
    },
    {
      "cell_type": "markdown",
      "metadata": {
        "id": "5_IxYygVAnSC"
      },
      "source": [
        "Train StarSpace embeddings for unigrams on the train dataset. You don't need to change the format of the input data. Just don't forget to use prepared version of the training data. \n",
        "\n",
        "If you follow the instruction, the training process will take about 1 hour. The size of the embeddings' dictionary should be approximately 100 000 (number of lines in the result file). If you got significantly more than this number, try to check all the instructions above."
      ]
    },
    {
      "cell_type": "code",
      "metadata": {
        "collapsed": true,
        "id": "REtGfFnQAnSC",
        "outputId": "6be7248d-6653-49ce-aedc-2832bc4bc3e9",
        "colab": {
          "base_uri": "https://localhost:8080/"
        }
      },
      "source": [
        "######### TRAINING HAPPENING HERE #############\n",
        "!starspace train -trainFile \"data/train_prepared.tsv\" -model starspace_embedding \\\n",
        "-trainMode 3 -adagrad true -ngrams 1 -epoch 5 -dim 100 -similarity cosine -minCount 2 \\\n",
        "-verbose true -fileFormat labelDoc -negSearchLimit 10 -lr 0.05"
      ],
      "execution_count": 41,
      "outputs": [
        {
          "output_type": "stream",
          "text": [
            "Arguments: \n",
            "lr: 0.05\n",
            "dim: 100\n",
            "epoch: 5\n",
            "maxTrainTime: 8640000\n",
            "validationPatience: 10\n",
            "saveEveryEpoch: 0\n",
            "loss: hinge\n",
            "margin: 0.05\n",
            "similarity: cosine\n",
            "maxNegSamples: 10\n",
            "negSearchLimit: 10\n",
            "batchSize: 5\n",
            "thread: 10\n",
            "minCount: 2\n",
            "minCountLabel: 1\n",
            "label: __label__\n",
            "label: __label__\n",
            "ngrams: 1\n",
            "bucket: 2000000\n",
            "adagrad: 1\n",
            "trainMode: 3\n",
            "fileFormat: labelDoc\n",
            "normalizeText: 0\n",
            "dropoutLHS: 0\n",
            "dropoutRHS: 0\n",
            "useWeight: 0\n",
            "weightSep: :\n",
            "Start to initialize starspace model.\n",
            "Build dict from input file : data/train_prepared.tsv\n",
            "Read 12M words\n",
            "Number of words in dictionary:  95058\n",
            "Number of labels in dictionary: 0\n",
            "Loading data from file : data/train_prepared.tsv\n",
            "Total number of examples loaded : 999740\n",
            "Initialized model weights. Model size :\n",
            "matrix : 95058 100\n",
            "Training epoch 0: 0.05 0.01\n",
            "Epoch: 100.0%  lr: 0.040000  loss: 0.043374  eta: 0h12m  tot: 0h3m13s  (20.0%)\n",
            " ---+++                Epoch    0 Train error : 0.04359955 +++--- ☃\n",
            "Training epoch 1: 0.04 0.01\n",
            "Epoch: 100.0%  lr: 0.030000  loss: 0.013093  eta: 0h8m  tot: 0h6m12s  (40.0%)\n",
            " ---+++                Epoch    1 Train error : 0.01310705 +++--- ☃\n",
            "Training epoch 2: 0.03 0.01\n",
            "Epoch: 100.0%  lr: 0.020000  loss: 0.009391  eta: 0h5m  tot: 0h9m8s  (60.0%)\n",
            " ---+++                Epoch    2 Train error : 0.00943993 +++--- ☃\n",
            "Training epoch 3: 0.02 0.01\n",
            "Epoch: 100.0%  lr: 0.010000  loss: 0.007683  eta: 0h2m  tot: 0h12m3s  (80.0%)\n",
            " ---+++                Epoch    3 Train error : 0.00772614 +++--- ☃\n",
            "Training epoch 4: 0.01 0.01\n",
            "Epoch: 100.0%  lr: 0.000000  loss: 0.006864  eta: <1min   tot: 0h14m57s  (100.0%)\n",
            " ---+++                Epoch    4 Train error : 0.00685980 +++--- ☃\n",
            "Saving model to file : starspace_embedding\n",
            "Saving model in tsv format : starspace_embedding.tsv\n"
          ],
          "name": "stdout"
        }
      ]
    },
    {
      "cell_type": "markdown",
      "metadata": {
        "collapsed": true,
        "id": "XM4Tw5yZAnSC"
      },
      "source": [
        "And now we can compare the new embeddings with the previous ones. You can find trained word vectors in the file *[model_file_name].tsv*. Upload the embeddings from StarSpace into a dict. "
      ]
    },
    {
      "cell_type": "code",
      "metadata": {
        "collapsed": true,
        "id": "QyTKmZ40AnSC"
      },
      "source": [
        "starspace_embeddings = {}\n",
        "######### YOUR CODE HERE #############\n",
        "with open('starspace_embedding.tsv', encoding='utf-8') as f:  \n",
        "  for line in f.readlines():\n",
        "    row = line.strip().split('\\t')\n",
        "    starspace_embeddings[row[0]] = np.array(row[1:], dtype=np.float32)"
      ],
      "execution_count": 43,
      "outputs": []
    },
    {
      "cell_type": "code",
      "metadata": {
        "collapsed": true,
        "id": "fZv_BIs7AnSD"
      },
      "source": [
        "ss_prepared_ranking = []\n",
        "for line in prepared_validation:\n",
        "    q, *ex = line\n",
        "    ranks = rank_candidates(q, ex, starspace_embeddings, 100)\n",
        "    ss_prepared_ranking.append([r[0] for r in ranks].index(0) + 1)"
      ],
      "execution_count": 44,
      "outputs": []
    },
    {
      "cell_type": "code",
      "metadata": {
        "collapsed": true,
        "id": "Kw2Sm1b2AnSD",
        "outputId": "3ec5434a-b398-4673-e8f6-8fb397d7128f",
        "colab": {
          "base_uri": "https://localhost:8080/"
        }
      },
      "source": [
        "for k in [1, 5, 10, 100, 500, 1000]:\n",
        "    print(\"DCG@%4d: %.3f | Hits@%4d: %.3f\" % (k, dcg_score(ss_prepared_ranking, k), \n",
        "                                               k, hits_count(ss_prepared_ranking, k)))"
      ],
      "execution_count": 45,
      "outputs": [
        {
          "output_type": "stream",
          "text": [
            "DCG@   1: 0.515 | Hits@   1: 0.515\n",
            "DCG@   5: 0.615 | Hits@   5: 0.701\n",
            "DCG@  10: 0.634 | Hits@  10: 0.759\n",
            "DCG@ 100: 0.664 | Hits@ 100: 0.905\n",
            "DCG@ 500: 0.674 | Hits@ 500: 0.981\n",
            "DCG@1000: 0.676 | Hits@1000: 1.000\n"
          ],
          "name": "stdout"
        }
      ]
    },
    {
      "cell_type": "markdown",
      "metadata": {
        "id": "GsbUDyOFAnSD"
      },
      "source": [
        "Due to training for the particular task with the supervised data, you should expect to obtain a higher quality than for the previous approach. In additiion, despite the fact that StarSpace's trained vectors have a smaller dimension than word2vec's, it provides better results in this task."
      ]
    },
    {
      "cell_type": "markdown",
      "metadata": {
        "id": "0atD59iXAnSD"
      },
      "source": [
        "**Task 5 (StarSpaceRanks).** For each question from prepared *test.tsv* submit the ranks of the candidates for trained representation."
      ]
    },
    {
      "cell_type": "code",
      "metadata": {
        "collapsed": true,
        "id": "_XrD8GTOAnSD",
        "outputId": "f8213b22-17ad-4ac9-d115-dfe3c19dd530",
        "colab": {
          "base_uri": "https://localhost:8080/"
        }
      },
      "source": [
        "starspace_ranks_results = []\n",
        "prepared_test_data = 'data/test_prepared.tsv' ######### YOUR CODE HERE #############\n",
        "for line in open(prepared_test_data):\n",
        "    q, *ex = line.strip().split('\\t')\n",
        "    ranks = rank_candidates(q, ex, starspace_embeddings, 100)\n",
        "    ranked_candidates = [r[0] for r in ranks]\n",
        "    starspace_ranks_results.append([ranked_candidates.index(i) + 1 for i in range(len(ranked_candidates))])\n",
        "    \n",
        "grader.submit_tag('StarSpaceRanks', matrix_to_string(starspace_ranks_results))"
      ],
      "execution_count": 46,
      "outputs": [
        {
          "output_type": "stream",
          "text": [
            "Current answer for task StarSpaceRanks is: 49\t63\t79\t56\t35\t71\t86\t88\t34\t74\t12\t8\t19\t94\t36\t50\t14\t17\t41\t69\t26\t67\t21\t80\t82\t32\t62\t97\t45\t3\t65\t68\t84\t85\t...\n"
          ],
          "name": "stdout"
        }
      ]
    },
    {
      "cell_type": "markdown",
      "metadata": {
        "id": "8uZ3fEDGAnSF"
      },
      "source": [
        "Please, **don't remove** the file with these embeddings because you will need them in the final project."
      ]
    },
    {
      "cell_type": "markdown",
      "metadata": {
        "id": "9pOIGCiCAnSF"
      },
      "source": [
        "### Authorization & Submission\n",
        "To submit assignment parts to Cousera platform, please, enter your e-mail and token into variables below. You can generate token on this programming assignment page. <b>Note:</b> Token expires 30 minutes after generation."
      ]
    },
    {
      "cell_type": "code",
      "metadata": {
        "collapsed": true,
        "id": "xDCp98tyAnSG",
        "outputId": "02f93125-a440-4ad9-be19-1901b3f2c270",
        "colab": {
          "base_uri": "https://localhost:8080/"
        }
      },
      "source": [
        "STUDENT_EMAIL = 'eydgant@comunidad.unam.mx' # EMAIL \n",
        "STUDENT_TOKEN = 'FqClMmZuXeTpDizc' # TOKEN \n",
        "grader.status()"
      ],
      "execution_count": 47,
      "outputs": [
        {
          "output_type": "stream",
          "text": [
            "You want to submit these parts:\n",
            "Task Question2Vec: 0.01929389126598835\n",
            "-0.02872721292078495\n",
            "0.0460561104118824\n",
            "0.0852593332529068\n",
            "0.0243055559694767\n",
            "-0...\n",
            "Task HitsCount: 1.0\n",
            "0.5\n",
            "1.0\n",
            "0.5\n",
            "1.0\n",
            "0.3333333333333333\n",
            "0.6666666666666666\n",
            "1.0\n",
            "0.1\n",
            "0.2\n",
            "0.3\n",
            "0.4\n",
            "0.5\n",
            "0.6\n",
            "0.7\n",
            "0.8\n",
            "0.9\n",
            "1....\n",
            "Task DCGScore: 1.0\n",
            "0.5\n",
            "0.8154648767857288\n",
            "0.5\n",
            "0.8154648767857288\n",
            "0.3333333333333333\n",
            "0.5436432511904858\n",
            "0.7103099178...\n",
            "Task W2VTokenizedRanks: 95\t94\t7\t9\t64\t36\t31\t93\t23\t100\t99\t20\t60\t6\t97\t48\t70\t37\t41\t96\t29\t56\t2\t65\t68\t44\t27\t25\t57\t62\t11\t87\t50\t66\t7...\n",
            "Task StarSpaceRanks: 49\t63\t79\t56\t35\t71\t86\t88\t34\t74\t12\t8\t19\t94\t36\t50\t14\t17\t41\t69\t26\t67\t21\t80\t82\t32\t62\t97\t45\t3\t65\t68\t84\t85\t...\n"
          ],
          "name": "stdout"
        }
      ]
    },
    {
      "cell_type": "markdown",
      "metadata": {
        "id": "wt27vX3VAnSG"
      },
      "source": [
        "If you want to submit these answers, run cell below"
      ]
    },
    {
      "cell_type": "code",
      "metadata": {
        "collapsed": true,
        "id": "f-ASnDsYAnSG",
        "outputId": "07319915-f87b-4e81-9571-ea93d7696a9b",
        "colab": {
          "base_uri": "https://localhost:8080/"
        }
      },
      "source": [
        "grader.submit(STUDENT_EMAIL, STUDENT_TOKEN)"
      ],
      "execution_count": 48,
      "outputs": [
        {
          "output_type": "stream",
          "text": [
            "Submitted to Coursera platform. See results on assignment page!\n"
          ],
          "name": "stdout"
        }
      ]
    },
    {
      "cell_type": "code",
      "metadata": {
        "id": "wMaNs2MiTtPc"
      },
      "source": [
        ""
      ],
      "execution_count": null,
      "outputs": []
    }
  ]
}